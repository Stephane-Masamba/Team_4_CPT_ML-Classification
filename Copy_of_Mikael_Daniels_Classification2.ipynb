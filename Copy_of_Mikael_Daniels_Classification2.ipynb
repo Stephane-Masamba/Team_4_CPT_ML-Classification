{
  "nbformat": 4,
  "nbformat_minor": 0,
  "metadata": {
    "colab": {
      "name": "Copy of Mikael_Daniels_Classification2.ipynb",
      "provenance": [],
      "collapsed_sections": [],
      "include_colab_link": true
    },
    "kernelspec": {
      "name": "python3",
      "display_name": "Python 3"
    }
  },
  "cells": [
    {
      "cell_type": "markdown",
      "metadata": {
        "id": "view-in-github",
        "colab_type": "text"
      },
      "source": [
        "<a href=\"https://colab.research.google.com/github/Stephane-Masamba/Team_4_CPT_ML-Classification/blob/Rachel/Copy_of_Mikael_Daniels_Classification2.ipynb\" target=\"_parent\"><img src=\"https://colab.research.google.com/assets/colab-badge.svg\" alt=\"Open In Colab\"/></a>"
      ]
    },
    {
      "cell_type": "markdown",
      "metadata": {
        "id": "zeuHJ4dUysfz",
        "colab_type": "text"
      },
      "source": [
        "#Introduction"
      ]
    },
    {
      "cell_type": "markdown",
      "metadata": {
        "id": "5zVp58ofzaYy",
        "colab_type": "text"
      },
      "source": [
        "Many companies are built around lessening their environmental impact and thus they offer products that are environmentally friendly and sustainable. With that, they would like to determine how people perceive climate change.\n",
        "\n",
        "\n",
        "\n",
        "\n",
        "This notebook aims to create a Machine Learning model that is able to classify whether or not a person believes in climate change based on their novel tweet.\n"
      ]
    },
    {
      "cell_type": "markdown",
      "metadata": {
        "id": "agQ7LkTh0Z2q",
        "colab_type": "text"
      },
      "source": [
        "#Imports"
      ]
    },
    {
      "cell_type": "markdown",
      "metadata": {
        "id": "752ir0eG1BUd",
        "colab_type": "text"
      },
      "source": [
        "###Import Libraries"
      ]
    },
    {
      "cell_type": "code",
      "metadata": {
        "id": "Nx6wBtTChk5U",
        "colab_type": "code",
        "colab": {
          "base_uri": "https://localhost:8080/",
          "height": 411
        },
        "outputId": "444b85f8-56b7-4b79-8675-b46079b953ca"
      },
      "source": [
        "!pip install spacy\n",
        "!pip install NLTK"
      ],
      "execution_count": null,
      "outputs": [
        {
          "output_type": "stream",
          "text": [
            "Requirement already satisfied: spacy in /usr/local/lib/python3.6/dist-packages (2.2.4)\n",
            "Requirement already satisfied: plac<1.2.0,>=0.9.6 in /usr/local/lib/python3.6/dist-packages (from spacy) (1.1.3)\n",
            "Requirement already satisfied: requests<3.0.0,>=2.13.0 in /usr/local/lib/python3.6/dist-packages (from spacy) (2.23.0)\n",
            "Requirement already satisfied: wasabi<1.1.0,>=0.4.0 in /usr/local/lib/python3.6/dist-packages (from spacy) (0.6.0)\n",
            "Requirement already satisfied: cymem<2.1.0,>=2.0.2 in /usr/local/lib/python3.6/dist-packages (from spacy) (2.0.3)\n",
            "Requirement already satisfied: numpy>=1.15.0 in /usr/local/lib/python3.6/dist-packages (from spacy) (1.18.5)\n",
            "Requirement already satisfied: tqdm<5.0.0,>=4.38.0 in /usr/local/lib/python3.6/dist-packages (from spacy) (4.41.1)\n",
            "Requirement already satisfied: setuptools in /usr/local/lib/python3.6/dist-packages (from spacy) (47.3.1)\n",
            "Requirement already satisfied: blis<0.5.0,>=0.4.0 in /usr/local/lib/python3.6/dist-packages (from spacy) (0.4.1)\n",
            "Requirement already satisfied: catalogue<1.1.0,>=0.0.7 in /usr/local/lib/python3.6/dist-packages (from spacy) (1.0.0)\n",
            "Requirement already satisfied: thinc==7.4.0 in /usr/local/lib/python3.6/dist-packages (from spacy) (7.4.0)\n",
            "Requirement already satisfied: murmurhash<1.1.0,>=0.28.0 in /usr/local/lib/python3.6/dist-packages (from spacy) (1.0.2)\n",
            "Requirement already satisfied: srsly<1.1.0,>=1.0.2 in /usr/local/lib/python3.6/dist-packages (from spacy) (1.0.2)\n",
            "Requirement already satisfied: preshed<3.1.0,>=3.0.2 in /usr/local/lib/python3.6/dist-packages (from spacy) (3.0.2)\n",
            "Requirement already satisfied: urllib3!=1.25.0,!=1.25.1,<1.26,>=1.21.1 in /usr/local/lib/python3.6/dist-packages (from requests<3.0.0,>=2.13.0->spacy) (1.24.3)\n",
            "Requirement already satisfied: chardet<4,>=3.0.2 in /usr/local/lib/python3.6/dist-packages (from requests<3.0.0,>=2.13.0->spacy) (3.0.4)\n",
            "Requirement already satisfied: idna<3,>=2.5 in /usr/local/lib/python3.6/dist-packages (from requests<3.0.0,>=2.13.0->spacy) (2.9)\n",
            "Requirement already satisfied: certifi>=2017.4.17 in /usr/local/lib/python3.6/dist-packages (from requests<3.0.0,>=2.13.0->spacy) (2020.4.5.2)\n",
            "Requirement already satisfied: importlib-metadata>=0.20; python_version < \"3.8\" in /usr/local/lib/python3.6/dist-packages (from catalogue<1.1.0,>=0.0.7->spacy) (1.6.1)\n",
            "Requirement already satisfied: zipp>=0.5 in /usr/local/lib/python3.6/dist-packages (from importlib-metadata>=0.20; python_version < \"3.8\"->catalogue<1.1.0,>=0.0.7->spacy) (3.1.0)\n",
            "Requirement already satisfied: NLTK in /usr/local/lib/python3.6/dist-packages (3.2.5)\n",
            "Requirement already satisfied: six in /usr/local/lib/python3.6/dist-packages (from NLTK) (1.12.0)\n"
          ],
          "name": "stdout"
        }
      ]
    },
    {
      "cell_type": "code",
      "metadata": {
        "id": "_vG_T9DtyqJe",
        "colab_type": "code",
        "colab": {}
      },
      "source": [
        "import numpy as np\n",
        "import pandas as pd\n",
        "import sklearn\n",
        "import matplotlib.pyplot as plt\n",
        "from numpy import arange\n",
        "import re\n",
        "import spacy.cli\n",
        "import nltk\n",
        "from nltk.corpus import stopwords\n",
        "from nltk.tokenize import word_tokenize\n",
        "from sklearn.svm import LinearSVC, SVC\n",
        "from sklearn.model_selection import train_test_split, cross_val_score, KFold, GridSearchCV\n",
        "from sklearn.metrics import accuracy_score, confusion_matrix, f1_score\n",
        "from sklearn.naive_bayes import MultinomialNB, BernoulliNB\n",
        "from sklearn.linear_model import SGDClassifier, LinearRegression\n",
        "from sklearn.ensemble import RandomForestClassifier, GradientBoostingClassifier, ExtraTreesClassifier, BaggingClassifier\n",
        "from sklearn.tree import DecisionTreeClassifier\n",
        "from sklearn.neighbors import KNeighborsClassifier\n",
        "from sklearn.gaussian_process import GaussianProcessClassifier\n",
        "from google.colab import drive"
      ],
      "execution_count": 49,
      "outputs": []
    },
    {
      "cell_type": "code",
      "metadata": {
        "id": "m3Qrj4YjijW6",
        "colab_type": "code",
        "colab": {
          "base_uri": "https://localhost:8080/",
          "height": 173
        },
        "outputId": "51fa7901-3cf4-4f0e-a38d-83d8f7333dd3"
      },
      "source": [
        "spacy.cli.download('en_core_web_sm')\n",
        "nltk.download('punkt')\n",
        "nltk.download('wordnet')\n",
        "nltk.download('stopwords')"
      ],
      "execution_count": 30,
      "outputs": [
        {
          "output_type": "stream",
          "text": [
            "\u001b[38;5;2m✔ Download and installation successful\u001b[0m\n",
            "You can now load the model via spacy.load('en_core_web_sm')\n",
            "[nltk_data] Downloading package punkt to /root/nltk_data...\n",
            "[nltk_data]   Unzipping tokenizers/punkt.zip.\n",
            "[nltk_data] Downloading package wordnet to /root/nltk_data...\n",
            "[nltk_data]   Unzipping corpora/wordnet.zip.\n",
            "[nltk_data] Downloading package stopwords to /root/nltk_data...\n",
            "[nltk_data]   Unzipping corpora/stopwords.zip.\n"
          ],
          "name": "stdout"
        },
        {
          "output_type": "execute_result",
          "data": {
            "text/plain": [
              "True"
            ]
          },
          "metadata": {
            "tags": []
          },
          "execution_count": 30
        }
      ]
    },
    {
      "cell_type": "code",
      "metadata": {
        "id": "9wVx40yIkNQF",
        "colab_type": "code",
        "colab": {}
      },
      "source": [
        "nlp = spacy.load('en_core_web_sm')"
      ],
      "execution_count": 31,
      "outputs": []
    },
    {
      "cell_type": "markdown",
      "metadata": {
        "id": "ygaL3JrR0tJ0",
        "colab_type": "text"
      },
      "source": [
        "###Import the datasets"
      ]
    },
    {
      "cell_type": "code",
      "metadata": {
        "id": "Brtlh1UttRzv",
        "colab_type": "code",
        "colab": {
          "base_uri": "https://localhost:8080/",
          "height": 121
        },
        "outputId": "ebfd3d34-9b67-4709-d545-a5a16d85e74e"
      },
      "source": [
        "train = pd.read_csv('https://raw.githubusercontent.com/Stephane-Masamba/Team_4_CPT_ML-Classification/Mikael/train%20(1).csv')\n",
        "print(train.head())"
      ],
      "execution_count": 2,
      "outputs": [
        {
          "output_type": "stream",
          "text": [
            "   sentiment                                            message  tweetid\n",
            "0          1  PolySciMajor EPA chief doesn't think carbon di...   625221\n",
            "1          1  It's not like we lack evidence of anthropogeni...   126103\n",
            "2          2  RT @RawStory: Researchers say we have three ye...   698562\n",
            "3          1  #TodayinMaker# WIRED : 2016 was a pivotal year...   573736\n",
            "4          1  RT @SoyNovioDeTodas: It's 2016, and a racist, ...   466954\n"
          ],
          "name": "stdout"
        }
      ]
    },
    {
      "cell_type": "code",
      "metadata": {
        "id": "vl3SL2fotbpK",
        "colab_type": "code",
        "colab": {
          "base_uri": "https://localhost:8080/",
          "height": 119
        },
        "outputId": "c0364891-0346-4d68-d815-926f15c03177"
      },
      "source": [
        "test = pd.read_csv('https://raw.githubusercontent.com/Stephane-Masamba/Team_4_CPT_ML-Classification/Mikael/test%20(1).csv')\n",
        "print(test.head())\n"
      ],
      "execution_count": null,
      "outputs": [
        {
          "output_type": "stream",
          "text": [
            "                                             message  tweetid\n",
            "0  Europe will now be looking to China to make su...   169760\n",
            "1  Combine this with the polling of staffers re c...    35326\n",
            "2  The scary, unimpeachable evidence that climate...   224985\n",
            "3  @Karoli @morgfair @OsborneInk @dailykos \\nPuti...   476263\n",
            "4  RT @FakeWillMoore: 'Female orgasms cause globa...   872928\n"
          ],
          "name": "stdout"
        }
      ]
    },
    {
      "cell_type": "code",
      "metadata": {
        "id": "kHFkpesDthSE",
        "colab_type": "code",
        "colab": {
          "base_uri": "https://localhost:8080/",
          "height": 119
        },
        "outputId": "e5ff6553-3bbc-4c45-d962-0ed51320cbc3"
      },
      "source": [
        "sample = pd.read_csv('https://raw.githubusercontent.com/Stephane-Masamba/Team_4_CPT_ML-Classification/Mikael/sample_submission.csv')\n",
        "print(sample.head())\n"
      ],
      "execution_count": null,
      "outputs": [
        {
          "output_type": "stream",
          "text": [
            "   tweetid  sentiment\n",
            "0   169760          1\n",
            "1    35326          1\n",
            "2   224985          1\n",
            "3   476263          1\n",
            "4   872928          1\n"
          ],
          "name": "stdout"
        }
      ]
    },
    {
      "cell_type": "markdown",
      "metadata": {
        "id": "0ZHqx9un1PTD",
        "colab_type": "text"
      },
      "source": [
        "#Exploratory Data Analysis"
      ]
    },
    {
      "cell_type": "code",
      "metadata": {
        "id": "kqhYq3KM1V_b",
        "colab_type": "code",
        "colab": {}
      },
      "source": [
        ""
      ],
      "execution_count": null,
      "outputs": []
    },
    {
      "cell_type": "code",
      "metadata": {
        "id": "PPoV3a-61WDU",
        "colab_type": "code",
        "colab": {}
      },
      "source": [
        ""
      ],
      "execution_count": null,
      "outputs": []
    },
    {
      "cell_type": "markdown",
      "metadata": {
        "id": "MkpNA-2_1y3b",
        "colab_type": "text"
      },
      "source": [
        "###Data Cleaning"
      ]
    },
    {
      "cell_type": "markdown",
      "metadata": {
        "id": "95gOu5vo2VVV",
        "colab_type": "text"
      },
      "source": [
        "Below we clean the tweets made by individuals in order to allow for readability by our machines.Examples of how we clean the data is by removing punctuations,converting all leters to lower case,removing numbers and so on."
      ]
    },
    {
      "cell_type": "code",
      "metadata": {
        "id": "oYbjPiXt8lfI",
        "colab_type": "code",
        "colab": {}
      },
      "source": [
        "i = 0\n",
        "for tweet in train['message']:\n",
        "    tweet = tweet.lower()\n",
        "    tweet = re.sub(r'http\\S+', 'LINK', tweet)\n",
        "    tweet = re.sub(r'[^\\w\\s]', '', tweet)\n",
        "    tweet = tweet.lstrip()\n",
        "    tweet = tweet.rstrip()\n",
        "    tweet = tweet.replace('  ', ' ')\n",
        "    train.loc[i, 'message'] = tweet\n",
        "    i += 1\n",
        "\n",
        "  "
      ],
      "execution_count": null,
      "outputs": []
    },
    {
      "cell_type": "code",
      "metadata": {
        "id": "Mqw1jzqUDL3p",
        "colab_type": "code",
        "colab": {
          "base_uri": "https://localhost:8080/",
          "height": 419
        },
        "outputId": "646705e3-3213-4e24-d0dc-b3c65a5b808a"
      },
      "source": [
        "train"
      ],
      "execution_count": null,
      "outputs": [
        {
          "output_type": "execute_result",
          "data": {
            "text/html": [
              "<div>\n",
              "<style scoped>\n",
              "    .dataframe tbody tr th:only-of-type {\n",
              "        vertical-align: middle;\n",
              "    }\n",
              "\n",
              "    .dataframe tbody tr th {\n",
              "        vertical-align: top;\n",
              "    }\n",
              "\n",
              "    .dataframe thead th {\n",
              "        text-align: right;\n",
              "    }\n",
              "</style>\n",
              "<table border=\"1\" class=\"dataframe\">\n",
              "  <thead>\n",
              "    <tr style=\"text-align: right;\">\n",
              "      <th></th>\n",
              "      <th>sentiment</th>\n",
              "      <th>message</th>\n",
              "      <th>tweetid</th>\n",
              "    </tr>\n",
              "  </thead>\n",
              "  <tbody>\n",
              "    <tr>\n",
              "      <th>0</th>\n",
              "      <td>1</td>\n",
              "      <td>polyscimajor epa chief doesnt think carbon dio...</td>\n",
              "      <td>625221</td>\n",
              "    </tr>\n",
              "    <tr>\n",
              "      <th>1</th>\n",
              "      <td>1</td>\n",
              "      <td>its not like we lack evidence of anthropogenic...</td>\n",
              "      <td>126103</td>\n",
              "    </tr>\n",
              "    <tr>\n",
              "      <th>2</th>\n",
              "      <td>2</td>\n",
              "      <td>rt rawstory researchers say we have three year...</td>\n",
              "      <td>698562</td>\n",
              "    </tr>\n",
              "    <tr>\n",
              "      <th>3</th>\n",
              "      <td>1</td>\n",
              "      <td>todayinmaker wired 2016 was a pivotal year in ...</td>\n",
              "      <td>573736</td>\n",
              "    </tr>\n",
              "    <tr>\n",
              "      <th>4</th>\n",
              "      <td>1</td>\n",
              "      <td>rt soynoviodetodas its 2016 and a racist sexis...</td>\n",
              "      <td>466954</td>\n",
              "    </tr>\n",
              "    <tr>\n",
              "      <th>...</th>\n",
              "      <td>...</td>\n",
              "      <td>...</td>\n",
              "      <td>...</td>\n",
              "    </tr>\n",
              "    <tr>\n",
              "      <th>15814</th>\n",
              "      <td>1</td>\n",
              "      <td>rt ezlusztig they took down the material on gl...</td>\n",
              "      <td>22001</td>\n",
              "    </tr>\n",
              "    <tr>\n",
              "      <th>15815</th>\n",
              "      <td>2</td>\n",
              "      <td>rt washingtonpost how climate change could be ...</td>\n",
              "      <td>17856</td>\n",
              "    </tr>\n",
              "    <tr>\n",
              "      <th>15816</th>\n",
              "      <td>0</td>\n",
              "      <td>notiven rt nytimesworld what does trump actual...</td>\n",
              "      <td>384248</td>\n",
              "    </tr>\n",
              "    <tr>\n",
              "      <th>15817</th>\n",
              "      <td>-1</td>\n",
              "      <td>rt sara8smiles hey liberals the climate change...</td>\n",
              "      <td>819732</td>\n",
              "    </tr>\n",
              "    <tr>\n",
              "      <th>15818</th>\n",
              "      <td>0</td>\n",
              "      <td>rt chet_cannon kurteichenwalds climate change ...</td>\n",
              "      <td>806319</td>\n",
              "    </tr>\n",
              "  </tbody>\n",
              "</table>\n",
              "<p>15819 rows × 3 columns</p>\n",
              "</div>"
            ],
            "text/plain": [
              "       sentiment                                            message  tweetid\n",
              "0              1  polyscimajor epa chief doesnt think carbon dio...   625221\n",
              "1              1  its not like we lack evidence of anthropogenic...   126103\n",
              "2              2  rt rawstory researchers say we have three year...   698562\n",
              "3              1  todayinmaker wired 2016 was a pivotal year in ...   573736\n",
              "4              1  rt soynoviodetodas its 2016 and a racist sexis...   466954\n",
              "...          ...                                                ...      ...\n",
              "15814          1  rt ezlusztig they took down the material on gl...    22001\n",
              "15815          2  rt washingtonpost how climate change could be ...    17856\n",
              "15816          0  notiven rt nytimesworld what does trump actual...   384248\n",
              "15817         -1  rt sara8smiles hey liberals the climate change...   819732\n",
              "15818          0  rt chet_cannon kurteichenwalds climate change ...   806319\n",
              "\n",
              "[15819 rows x 3 columns]"
            ]
          },
          "metadata": {
            "tags": []
          },
          "execution_count": 89
        }
      ]
    },
    {
      "cell_type": "code",
      "metadata": {
        "id": "ctS_XmI2Db-a",
        "colab_type": "code",
        "colab": {}
      },
      "source": [
        "j = 0\n",
        "for message in test['message']:\n",
        "    message = message.lower()\n",
        "    message = re.sub(r'http\\S+', 'LINK', message)\n",
        "    message = re.sub(r'[^\\w\\s]', '', message)\n",
        "    message = message.lstrip()\n",
        "    message = message.rstrip()\n",
        "    message = message.replace('  ', ' ')\n",
        "    test.loc[j, 'message'] = message\n",
        "    j += 1"
      ],
      "execution_count": null,
      "outputs": []
    },
    {
      "cell_type": "code",
      "metadata": {
        "id": "IoOaL19lEO4C",
        "colab_type": "code",
        "colab": {
          "base_uri": "https://localhost:8080/",
          "height": 419
        },
        "outputId": "2af1d9e3-8ed2-46a7-9418-74b50ed937df"
      },
      "source": [
        "test"
      ],
      "execution_count": null,
      "outputs": [
        {
          "output_type": "execute_result",
          "data": {
            "text/html": [
              "<div>\n",
              "<style scoped>\n",
              "    .dataframe tbody tr th:only-of-type {\n",
              "        vertical-align: middle;\n",
              "    }\n",
              "\n",
              "    .dataframe tbody tr th {\n",
              "        vertical-align: top;\n",
              "    }\n",
              "\n",
              "    .dataframe thead th {\n",
              "        text-align: right;\n",
              "    }\n",
              "</style>\n",
              "<table border=\"1\" class=\"dataframe\">\n",
              "  <thead>\n",
              "    <tr style=\"text-align: right;\">\n",
              "      <th></th>\n",
              "      <th>message</th>\n",
              "      <th>tweetid</th>\n",
              "    </tr>\n",
              "  </thead>\n",
              "  <tbody>\n",
              "    <tr>\n",
              "      <th>0</th>\n",
              "      <td>europe will now be looking to china to make su...</td>\n",
              "      <td>169760</td>\n",
              "    </tr>\n",
              "    <tr>\n",
              "      <th>1</th>\n",
              "      <td>combine this with the polling of staffers re c...</td>\n",
              "      <td>35326</td>\n",
              "    </tr>\n",
              "    <tr>\n",
              "      <th>2</th>\n",
              "      <td>the scary unimpeachable evidence that climate ...</td>\n",
              "      <td>224985</td>\n",
              "    </tr>\n",
              "    <tr>\n",
              "      <th>3</th>\n",
              "      <td>karoli morgfair osborneink dailykos \\nputin go...</td>\n",
              "      <td>476263</td>\n",
              "    </tr>\n",
              "    <tr>\n",
              "      <th>4</th>\n",
              "      <td>rt fakewillmoore female orgasms cause global w...</td>\n",
              "      <td>872928</td>\n",
              "    </tr>\n",
              "    <tr>\n",
              "      <th>...</th>\n",
              "      <td>...</td>\n",
              "      <td>...</td>\n",
              "    </tr>\n",
              "    <tr>\n",
              "      <th>10541</th>\n",
              "      <td>rt brittanybohrer brb writing a poem about cli...</td>\n",
              "      <td>895714</td>\n",
              "    </tr>\n",
              "    <tr>\n",
              "      <th>10542</th>\n",
              "      <td>2016 the year climate change came home during ...</td>\n",
              "      <td>875167</td>\n",
              "    </tr>\n",
              "    <tr>\n",
              "      <th>10543</th>\n",
              "      <td>rt loop_vanuatu pacific countries positive abo...</td>\n",
              "      <td>78329</td>\n",
              "    </tr>\n",
              "    <tr>\n",
              "      <th>10544</th>\n",
              "      <td>rt xanria_00018 youre so hot you must be the c...</td>\n",
              "      <td>867455</td>\n",
              "    </tr>\n",
              "    <tr>\n",
              "      <th>10545</th>\n",
              "      <td>rt chloebalaoing climate change is a global is...</td>\n",
              "      <td>470892</td>\n",
              "    </tr>\n",
              "  </tbody>\n",
              "</table>\n",
              "<p>10546 rows × 2 columns</p>\n",
              "</div>"
            ],
            "text/plain": [
              "                                                 message  tweetid\n",
              "0      europe will now be looking to china to make su...   169760\n",
              "1      combine this with the polling of staffers re c...    35326\n",
              "2      the scary unimpeachable evidence that climate ...   224985\n",
              "3      karoli morgfair osborneink dailykos \\nputin go...   476263\n",
              "4      rt fakewillmoore female orgasms cause global w...   872928\n",
              "...                                                  ...      ...\n",
              "10541  rt brittanybohrer brb writing a poem about cli...   895714\n",
              "10542  2016 the year climate change came home during ...   875167\n",
              "10543  rt loop_vanuatu pacific countries positive abo...    78329\n",
              "10544  rt xanria_00018 youre so hot you must be the c...   867455\n",
              "10545  rt chloebalaoing climate change is a global is...   470892\n",
              "\n",
              "[10546 rows x 2 columns]"
            ]
          },
          "metadata": {
            "tags": []
          },
          "execution_count": 91
        }
      ]
    },
    {
      "cell_type": "code",
      "metadata": {
        "id": "847Mqda_QNG6",
        "colab_type": "code",
        "colab": {
          "base_uri": "https://localhost:8080/",
          "height": 85
        },
        "outputId": "40a9c95b-4431-48cf-8b7d-581d5acfc92a"
      },
      "source": [
        "train.isnull().sum()\n"
      ],
      "execution_count": null,
      "outputs": [
        {
          "output_type": "execute_result",
          "data": {
            "text/plain": [
              "sentiment    0\n",
              "message      0\n",
              "tweetid      0\n",
              "dtype: int64"
            ]
          },
          "metadata": {
            "tags": []
          },
          "execution_count": 9
        }
      ]
    },
    {
      "cell_type": "code",
      "metadata": {
        "id": "eQUETELX3Huo",
        "colab_type": "code",
        "colab": {
          "base_uri": "https://localhost:8080/",
          "height": 68
        },
        "outputId": "4f844c34-3cce-4076-c82a-7c81eb08c4a9"
      },
      "source": [
        "test.isnull().sum()\n"
      ],
      "execution_count": null,
      "outputs": [
        {
          "output_type": "execute_result",
          "data": {
            "text/plain": [
              "message    0\n",
              "tweetid    0\n",
              "dtype: int64"
            ]
          },
          "metadata": {
            "tags": []
          },
          "execution_count": 10
        }
      ]
    },
    {
      "cell_type": "code",
      "metadata": {
        "id": "f19MFMIY3KLi",
        "colab_type": "code",
        "colab": {
          "base_uri": "https://localhost:8080/",
          "height": 221
        },
        "outputId": "92969245-976d-4928-ccce-ff043dae4577"
      },
      "source": [
        "X_train = train['message']\n",
        "X_train\n"
      ],
      "execution_count": null,
      "outputs": [
        {
          "output_type": "execute_result",
          "data": {
            "text/plain": [
              "0        polyscimajor epa chief doesnt think carbon dio...\n",
              "1        its not like we lack evidence of anthropogenic...\n",
              "2        rt rawstory researchers say we have three year...\n",
              "3        todayinmaker wired 2016 was a pivotal year in ...\n",
              "4        rt soynoviodetodas its 2016 and a racist sexis...\n",
              "                               ...                        \n",
              "15814    rt ezlusztig they took down the material on gl...\n",
              "15815    rt washingtonpost how climate change could be ...\n",
              "15816    notiven rt nytimesworld what does trump actual...\n",
              "15817    rt sara8smiles hey liberals the climate change...\n",
              "15818    rt chet_cannon kurteichenwalds climate change ...\n",
              "Name: message, Length: 15819, dtype: object"
            ]
          },
          "metadata": {
            "tags": []
          },
          "execution_count": 92
        }
      ]
    },
    {
      "cell_type": "code",
      "metadata": {
        "id": "K_6P14uc3W0H",
        "colab_type": "code",
        "colab": {
          "base_uri": "https://localhost:8080/",
          "height": 221
        },
        "outputId": "1cf3bc34-ae88-488a-f3a0-cd662d947d77"
      },
      "source": [
        "y_train = train['sentiment']\n",
        "y_train\n"
      ],
      "execution_count": null,
      "outputs": [
        {
          "output_type": "execute_result",
          "data": {
            "text/plain": [
              "0        1\n",
              "1        1\n",
              "2        2\n",
              "3        1\n",
              "4        1\n",
              "        ..\n",
              "15814    1\n",
              "15815    2\n",
              "15816    0\n",
              "15817   -1\n",
              "15818    0\n",
              "Name: sentiment, Length: 15819, dtype: int64"
            ]
          },
          "metadata": {
            "tags": []
          },
          "execution_count": 93
        }
      ]
    },
    {
      "cell_type": "markdown",
      "metadata": {
        "id": "ZpHXHlui3Zws",
        "colab_type": "text"
      },
      "source": [
        "###Convert to machine language"
      ]
    },
    {
      "cell_type": "code",
      "metadata": {
        "id": "a0JhYhd74JSz",
        "colab_type": "code",
        "colab": {}
      },
      "source": [
        "from sklearn.feature_extraction.text import TfidfVectorizer\n"
      ],
      "execution_count": 43,
      "outputs": []
    },
    {
      "cell_type": "code",
      "metadata": {
        "id": "OWVjTnbK5Xj1",
        "colab_type": "code",
        "colab": {}
      },
      "source": [
        "tf_vect = TfidfVectorizer(ngram_range=(1, 2))\n"
      ],
      "execution_count": 44,
      "outputs": []
    },
    {
      "cell_type": "code",
      "metadata": {
        "id": "lD2xQ8Fb5sVw",
        "colab_type": "code",
        "colab": {}
      },
      "source": [
        "X_train = tf_vect.fit_transform(X_train)\n"
      ],
      "execution_count": null,
      "outputs": []
    },
    {
      "cell_type": "code",
      "metadata": {
        "id": "LzMA90nOpCxS",
        "colab_type": "code",
        "colab": {}
      },
      "source": [
        "X_test = test['message']\n"
      ],
      "execution_count": null,
      "outputs": []
    },
    {
      "cell_type": "code",
      "metadata": {
        "id": "w515iJq2M4cd",
        "colab_type": "code",
        "colab": {}
      },
      "source": [
        "X_test = tf_vect.transform(X_test)\n"
      ],
      "execution_count": null,
      "outputs": []
    },
    {
      "cell_type": "markdown",
      "metadata": {
        "id": "vyhuwyLh3oMX",
        "colab_type": "text"
      },
      "source": [
        "#Modelling"
      ]
    },
    {
      "cell_type": "code",
      "metadata": {
        "id": "0slY90EHJ3y5",
        "colab_type": "code",
        "colab": {}
      },
      "source": [
        "def accuracy(model):\n",
        "    features = train['message']\n",
        "    target = train['sentiment']\n",
        "\n",
        "    train_scores = []\n",
        "    test_scores = []\n",
        "\n",
        "    tf_vect = TfidfVectorizer(ngram_range=(1, 2))\n",
        "\n",
        "    folds = KFold(n_splits=5, shuffle=True)\n",
        "\n",
        "    for train_index, test_index in folds.split(features):\n",
        "        x_train, x_test = features.iloc[train_index], features.iloc[test_index]    \n",
        "        y_train, y_test = target.iloc[train_index], target.iloc[test_index]\n",
        "\n",
        "        x_train = tf_vect.fit_transform(x_train)\n",
        "        x_test = tf_vect.transform(x_test)\n",
        "     \n",
        "        model.fit(x_train, y_train)\n",
        "        train_predictions = model.predict(x_train)\n",
        "        test_predictions = model.predict(x_test)\n",
        "\n",
        "        train_score = accuracy_score(y_train, train_predictions)\n",
        "        train_scores.append(train_score)\n",
        "\n",
        "        test_score = accuracy_score(y_test, test_predictions)\n",
        "        test_scores.append(test_score)\n",
        "\n",
        "    avg_train_accuracy = np.mean(train_scores)\n",
        "    avg_test_accuracy = np.mean(test_scores)\n",
        "\n",
        "    return [avg_train_accuracy, avg_test_accuracy]\n"
      ],
      "execution_count": 50,
      "outputs": []
    },
    {
      "cell_type": "markdown",
      "metadata": {
        "id": "dcP_hnKd3uAI",
        "colab_type": "text"
      },
      "source": [
        "##Support Vector Machine"
      ]
    },
    {
      "cell_type": "code",
      "metadata": {
        "id": "xhyINQ6vM96c",
        "colab_type": "code",
        "colab": {}
      },
      "source": [
        "sv = SVC()\n"
      ],
      "execution_count": null,
      "outputs": []
    },
    {
      "cell_type": "code",
      "metadata": {
        "id": "z-SML2yyPHIy",
        "colab_type": "code",
        "colab": {
          "base_uri": "https://localhost:8080/",
          "height": 34
        },
        "outputId": "3b17f202-a26e-4cf7-9184-8bb0b84e2f7c"
      },
      "source": [
        "sv_accuracy = accuracy(sv)\n",
        "sv_accuracy\n"
      ],
      "execution_count": null,
      "outputs": [
        {
          "output_type": "execute_result",
          "data": {
            "text/plain": [
              "[0.9809880640612662, 0.7307049189566627]"
            ]
          },
          "metadata": {
            "tags": []
          },
          "execution_count": 101
        }
      ]
    },
    {
      "cell_type": "markdown",
      "metadata": {
        "id": "GkJALEtU32Vk",
        "colab_type": "text"
      },
      "source": [
        "###Naive_Bayes"
      ]
    },
    {
      "cell_type": "markdown",
      "metadata": {
        "id": "-Ms6tDa14IPG",
        "colab_type": "text"
      },
      "source": [
        "####Bernoulli"
      ]
    },
    {
      "cell_type": "code",
      "metadata": {
        "id": "Sf56Tvzwx2Ww",
        "colab_type": "code",
        "colab": {}
      },
      "source": [
        "bernoulli = BernoulliNB()\n"
      ],
      "execution_count": null,
      "outputs": []
    },
    {
      "cell_type": "code",
      "metadata": {
        "id": "m3JkAXjNx23l",
        "colab_type": "code",
        "colab": {
          "base_uri": "https://localhost:8080/",
          "height": 34
        },
        "outputId": "90b3af9d-2707-4a5c-af0f-31721e2c69da"
      },
      "source": [
        "bernoulli_accuracy = accuracy(bernoulli)\n",
        "bernoulli_accuracy\n"
      ],
      "execution_count": null,
      "outputs": [
        {
          "output_type": "execute_result",
          "data": {
            "text/plain": [
              "[0.7548676062838502, 0.63290955433259]"
            ]
          },
          "metadata": {
            "tags": []
          },
          "execution_count": 103
        }
      ]
    },
    {
      "cell_type": "markdown",
      "metadata": {
        "id": "P5AXTL_m4M0N",
        "colab_type": "text"
      },
      "source": [
        "####Multinomial"
      ]
    },
    {
      "cell_type": "code",
      "metadata": {
        "id": "F6dILUSX77jL",
        "colab_type": "code",
        "colab": {}
      },
      "source": [
        "mnb = MultinomialNB()\n"
      ],
      "execution_count": null,
      "outputs": []
    },
    {
      "cell_type": "code",
      "metadata": {
        "id": "Ozs7fkKoIu0a",
        "colab_type": "code",
        "colab": {
          "base_uri": "https://localhost:8080/",
          "height": 34
        },
        "outputId": "cb1a0dd1-be63-4822-b50e-9001aabc997e"
      },
      "source": [
        "mnb_accuracy = accuracy(mnb)\n",
        "mnb_accuracy\n"
      ],
      "execution_count": null,
      "outputs": [
        {
          "output_type": "execute_result",
          "data": {
            "text/plain": [
              "[0.7019723182224362, 0.6320253180241038]"
            ]
          },
          "metadata": {
            "tags": []
          },
          "execution_count": 105
        }
      ]
    },
    {
      "cell_type": "markdown",
      "metadata": {
        "id": "s8DgqL504f16",
        "colab_type": "text"
      },
      "source": [
        "###Stochastic Gradient Descent"
      ]
    },
    {
      "cell_type": "code",
      "metadata": {
        "id": "3NzmKTgzIxgh",
        "colab_type": "code",
        "colab": {}
      },
      "source": [
        "sgd = SGDClassifier()\n"
      ],
      "execution_count": null,
      "outputs": []
    },
    {
      "cell_type": "code",
      "metadata": {
        "id": "UIL7DmjpJk6Q",
        "colab_type": "code",
        "colab": {
          "base_uri": "https://localhost:8080/",
          "height": 34
        },
        "outputId": "4a82f437-5bd3-4632-effd-4a64ac6ee70f"
      },
      "source": [
        "sgd_accuracy = accuracy(sgd)\n",
        "sgd_accuracy\n"
      ],
      "execution_count": null,
      "outputs": [
        {
          "output_type": "execute_result",
          "data": {
            "text/plain": [
              "[0.9598426102922997, 0.7519442966698149]"
            ]
          },
          "metadata": {
            "tags": []
          },
          "execution_count": 107
        }
      ]
    },
    {
      "cell_type": "markdown",
      "metadata": {
        "id": "4bM9S8UZ4rAo",
        "colab_type": "text"
      },
      "source": [
        "###Random Forest"
      ]
    },
    {
      "cell_type": "code",
      "metadata": {
        "id": "wB4Mq7uL2gHT",
        "colab_type": "code",
        "colab": {}
      },
      "source": [
        "rand_forest = RandomForestClassifier()\n"
      ],
      "execution_count": null,
      "outputs": []
    },
    {
      "cell_type": "code",
      "metadata": {
        "id": "paEQ7xSL2kjn",
        "colab_type": "code",
        "colab": {
          "base_uri": "https://localhost:8080/",
          "height": 34
        },
        "outputId": "1021cf30-4557-4c5a-e3a8-8eadbcc85709"
      },
      "source": [
        "rand_forest_accuracy = accuracy(rand_forest)\n",
        "rand_forest_accuracy\n"
      ],
      "execution_count": null,
      "outputs": [
        {
          "output_type": "execute_result",
          "data": {
            "text/plain": [
              "[0.9991307883383842, 0.7039618566924054]"
            ]
          },
          "metadata": {
            "tags": []
          },
          "execution_count": 109
        }
      ]
    },
    {
      "cell_type": "markdown",
      "metadata": {
        "id": "qax3-8Bs4tnL",
        "colab_type": "text"
      },
      "source": [
        "###KNeighbors"
      ]
    },
    {
      "cell_type": "code",
      "metadata": {
        "id": "KjeH5s16eW2T",
        "colab_type": "code",
        "colab": {}
      },
      "source": [
        "knn = KNeighborsClassifier()\n"
      ],
      "execution_count": null,
      "outputs": []
    },
    {
      "cell_type": "code",
      "metadata": {
        "id": "nJUlyxeZeZQ1",
        "colab_type": "code",
        "colab": {
          "base_uri": "https://localhost:8080/",
          "height": 34
        },
        "outputId": "1ef415eb-3fb6-44c1-c87b-4f50b44d8c83"
      },
      "source": [
        "knn_accuracy = accuracy(knn)\n",
        "knn_accuracy\n"
      ],
      "execution_count": null,
      "outputs": [
        {
          "output_type": "execute_result",
          "data": {
            "text/plain": [
              "[0.7707661820230658, 0.6674897169508536]"
            ]
          },
          "metadata": {
            "tags": []
          },
          "execution_count": 111
        }
      ]
    },
    {
      "cell_type": "markdown",
      "metadata": {
        "id": "6gBrq5NF418Z",
        "colab_type": "text"
      },
      "source": [
        "##Hyperarameter Tuning"
      ]
    },
    {
      "cell_type": "code",
      "metadata": {
        "id": "1QZK61TAey3v",
        "colab_type": "code",
        "colab": {}
      },
      "source": [
        "grad_booster = GradientBoostingClassifier()\n"
      ],
      "execution_count": null,
      "outputs": []
    },
    {
      "cell_type": "code",
      "metadata": {
        "id": "EE3oe3a6e1T0",
        "colab_type": "code",
        "colab": {
          "base_uri": "https://localhost:8080/",
          "height": 34
        },
        "outputId": "d6e451c4-5854-4632-9f59-5612736536f6"
      },
      "source": [
        "grad_booster_accuracy = accuracy(grad_booster)\n",
        "grad_booster_accuracy\n"
      ],
      "execution_count": null,
      "outputs": [
        {
          "output_type": "execute_result",
          "data": {
            "text/plain": [
              "[0.7303559328298753, 0.6809536066713218]"
            ]
          },
          "metadata": {
            "tags": []
          },
          "execution_count": 113
        }
      ]
    },
    {
      "cell_type": "code",
      "metadata": {
        "id": "niTuZBA6gUbx",
        "colab_type": "code",
        "colab": {}
      },
      "source": [
        "extra_trees = ExtraTreesClassifier()\n"
      ],
      "execution_count": null,
      "outputs": []
    },
    {
      "cell_type": "code",
      "metadata": {
        "id": "KkbRsDhxgYmI",
        "colab_type": "code",
        "colab": {
          "base_uri": "https://localhost:8080/",
          "height": 34
        },
        "outputId": "205bfd7c-1ae4-4de3-aea4-14695e05db14"
      },
      "source": [
        "extra_trees_accuracy = accuracy(extra_trees)\n",
        "extra_trees_accuracy\n"
      ],
      "execution_count": null,
      "outputs": [
        {
          "output_type": "execute_result",
          "data": {
            "text/plain": [
              "[0.9992256137672882, 0.7231805168243914]"
            ]
          },
          "metadata": {
            "tags": []
          },
          "execution_count": 115
        }
      ]
    },
    {
      "cell_type": "code",
      "metadata": {
        "id": "sHxGsMrohMpW",
        "colab_type": "code",
        "colab": {}
      },
      "source": [
        "\n",
        "bagging = BaggingClassifier()"
      ],
      "execution_count": null,
      "outputs": []
    },
    {
      "cell_type": "code",
      "metadata": {
        "id": "30Ugp23mhUjy",
        "colab_type": "code",
        "colab": {
          "base_uri": "https://localhost:8080/",
          "height": 34
        },
        "outputId": "4c43f4ae-bbe7-44f1-d10d-bf204c156e6b"
      },
      "source": [
        "bagging_accuracy = accuracy(bagging)\n",
        "bagging_accuracy\n"
      ],
      "execution_count": null,
      "outputs": [
        {
          "output_type": "execute_result",
          "data": {
            "text/plain": [
              "[0.9790442058300087, 0.6376516877150588]"
            ]
          },
          "metadata": {
            "tags": []
          },
          "execution_count": 117
        }
      ]
    },
    {
      "cell_type": "code",
      "metadata": {
        "id": "NzovMnjCxNlC",
        "colab_type": "code",
        "colab": {}
      },
      "source": [
        "dec_tree = DecisionTreeClassifier()\n"
      ],
      "execution_count": null,
      "outputs": []
    },
    {
      "cell_type": "code",
      "metadata": {
        "id": "E-YLwX1ExR3w",
        "colab_type": "code",
        "colab": {
          "base_uri": "https://localhost:8080/",
          "height": 34
        },
        "outputId": "ed6590e9-765a-48f3-bd86-f1f587d7e8b3"
      },
      "source": [
        "dec_tree_accuracy = accuracy(dec_tree)\n",
        "dec_tree_accuracy\n"
      ],
      "execution_count": null,
      "outputs": [
        {
          "output_type": "execute_result",
          "data": {
            "text/plain": [
              "[0.9992256175135026, 0.5710223655069899]"
            ]
          },
          "metadata": {
            "tags": []
          },
          "execution_count": 119
        }
      ]
    },
    {
      "cell_type": "code",
      "metadata": {
        "id": "OqtzXN2aws54",
        "colab_type": "code",
        "colab": {}
      },
      "source": [
        "linear_sv = LinearSVC()\n"
      ],
      "execution_count": null,
      "outputs": []
    },
    {
      "cell_type": "code",
      "metadata": {
        "id": "HWyeNUfvw7r6",
        "colab_type": "code",
        "colab": {
          "base_uri": "https://localhost:8080/",
          "height": 34
        },
        "outputId": "0c307b7c-9011-4703-9ae0-6587ee4edb05"
      },
      "source": [
        "linear_sv_accuracy = accuracy(linear_sv)\n",
        "linear_sv_accuracy\n"
      ],
      "execution_count": null,
      "outputs": [
        {
          "output_type": "execute_result",
          "data": {
            "text/plain": [
              "[0.9977874695120581, 0.7613000028378057]"
            ]
          },
          "metadata": {
            "tags": []
          },
          "execution_count": 121
        }
      ]
    },
    {
      "cell_type": "code",
      "metadata": {
        "id": "gu6XGDG5zZ-V",
        "colab_type": "code",
        "colab": {
          "base_uri": "https://localhost:8080/",
          "height": 295
        },
        "outputId": "c8de6900-01dd-421d-f11c-1e17213def10"
      },
      "source": [
        "cols = ['SVC', 'Bernoulli', 'Multinomial Naive Bayes', 'SGDClassifier', \n",
        "        'Random Forest', 'KNearestNeighbours', 'Gradient Booster', \n",
        "        'Extra Trees', 'Bagging', 'Decision Tree', 'Linear SV']\n",
        "bar_widths = [sv_accuracy[1], bernoulli_accuracy[1], mnb_accuracy[1], \n",
        "              sgd_accuracy[1], rand_forest_accuracy[1], knn_accuracy[1], \n",
        "              grad_booster_accuracy[1], extra_trees_accuracy[1], \n",
        "              bagging_accuracy[1], dec_tree_accuracy[1], linear_sv_accuracy[1]]\n",
        "bar_positions = arange(11) + 0.75\n",
        "tick_positions = range(1, 12)\n",
        "\n",
        "fig, ax = plt.subplots()\n",
        "ax.barh(bar_positions, bar_widths, 0.5)\n",
        "ax.set_yticks(tick_positions)\n",
        "ax.set_yticklabels(cols)\n",
        "\n",
        "ax.set_ylabel('Model')\n",
        "ax.set_xlabel('Accuracy')\n",
        "ax.set_title('Accuracy For Each Model Trained')\n",
        "\n",
        "plt.show()\n"
      ],
      "execution_count": null,
      "outputs": [
        {
          "output_type": "display_data",
          "data": {
            "image/png": "[encoded data removed]",
            "text/plain": [
              "<Figure size 432x288 with 1 Axes>"
            ]
          },
          "metadata": {
            "tags": [],
            "needs_background": "light"
          }
        }
      ]
    },
    {
      "cell_type": "code",
      "metadata": {
        "id": "3J6TLvoYJmjG",
        "colab_type": "code",
        "colab": {}
      },
      "source": [
        "tuned_parameters = [{'kernel': ['rbf'], 'gamma': [1e-3, 1e-4], 'C': [1, 10, 100, 1000]}, \n",
        "                    {'kernel': ['linear'], 'C': [1, 10, 100, 1000]}]\n"
      ],
      "execution_count": null,
      "outputs": []
    },
    {
      "cell_type": "code",
      "metadata": {
        "id": "08yIdii2KUFv",
        "colab_type": "code",
        "colab": {}
      },
      "source": [
        "gs_clf = GridSearchCV(SVC(), tuned_parameters)\n"
      ],
      "execution_count": null,
      "outputs": []
    },
    {
      "cell_type": "code",
      "metadata": {
        "id": "-vw2R1K3yiNS",
        "colab_type": "code",
        "colab": {}
      },
      "source": [
        "accuracy(gs_clf)"
      ],
      "execution_count": null,
      "outputs": []
    },
    {
      "cell_type": "markdown",
      "metadata": {
        "colab_type": "text",
        "id": "BJlh_PGlCMbF"
      },
      "source": [
        "#Modelling with tokenization and lemmatization"
      ]
    },
    {
      "cell_type": "code",
      "metadata": {
        "id": "X2ZRcRRWjCn9",
        "colab_type": "code",
        "colab": {
          "base_uri": "https://localhost:8080/",
          "height": 119
        },
        "outputId": "bdc9751c-12ae-476d-f754-e29f2cfe9d6b"
      },
      "source": [
        "train = pd.read_csv('https://raw.githubusercontent.com/Stephane-Masamba/Team_4_CPT_ML-Classification/Mikael/train%20(1).csv')\n",
        "print(train.head())"
      ],
      "execution_count": null,
      "outputs": [
        {
          "output_type": "stream",
          "text": [
            "   sentiment                                            message  tweetid\n",
            "0          1  PolySciMajor EPA chief doesn't think carbon di...   625221\n",
            "1          1  It's not like we lack evidence of anthropogeni...   126103\n",
            "2          2  RT @RawStory: Researchers say we have three ye...   698562\n",
            "3          1  #TodayinMaker# WIRED : 2016 was a pivotal year...   573736\n",
            "4          1  RT @SoyNovioDeTodas: It's 2016, and a racist, ...   466954\n"
          ],
          "name": "stdout"
        }
      ]
    },
    {
      "cell_type": "code",
      "metadata": {
        "id": "Hx6btvpljPtK",
        "colab_type": "code",
        "colab": {
          "base_uri": "https://localhost:8080/",
          "height": 119
        },
        "outputId": "42f95b22-6e83-46d0-b982-1998d3d6d10a"
      },
      "source": [
        "test = pd.read_csv('https://raw.githubusercontent.com/Stephane-Masamba/Team_4_CPT_ML-Classification/Mikael/test%20(1).csv')\n",
        "print(test.head())"
      ],
      "execution_count": null,
      "outputs": [
        {
          "output_type": "stream",
          "text": [
            "                                             message  tweetid\n",
            "0  Europe will now be looking to China to make su...   169760\n",
            "1  Combine this with the polling of staffers re c...    35326\n",
            "2  The scary, unimpeachable evidence that climate...   224985\n",
            "3  @Karoli @morgfair @OsborneInk @dailykos \\nPuti...   476263\n",
            "4  RT @FakeWillMoore: 'Female orgasms cause globa...   872928\n"
          ],
          "name": "stdout"
        }
      ]
    },
    {
      "cell_type": "code",
      "metadata": {
        "id": "-FT0mtEVjZv2",
        "colab_type": "code",
        "colab": {}
      },
      "source": [
        "i = 0\n",
        "for tweet in train['message']:\n",
        "  tweet = tweet.lower()\n",
        "  tweet = re.sub(r'http\\S+', 'LINK', tweet)\n",
        "  tweet = re.sub(r'@\\S+', 'USER_REF', tweet)\n",
        "  tweet = re.sub(r'[^\\w\\s]', '', tweet)\n",
        "  tweet = tweet.lstrip()\n",
        "  tweet = tweet.rstrip()\n",
        "  tweet = tweet.replace('  ', ' ')\n",
        "  train.loc[i, 'message'] = tweet\n",
        "  i += 1"
      ],
      "execution_count": null,
      "outputs": []
    },
    {
      "cell_type": "code",
      "metadata": {
        "id": "dTwCihd4jgvu",
        "colab_type": "code",
        "colab": {
          "base_uri": "https://localhost:8080/",
          "height": 419
        },
        "outputId": "c65a11db-85e5-42fe-bbed-e83ef438cb80"
      },
      "source": [
        "train"
      ],
      "execution_count": null,
      "outputs": [
        {
          "output_type": "execute_result",
          "data": {
            "text/html": [
              "<div>\n",
              "<style scoped>\n",
              "    .dataframe tbody tr th:only-of-type {\n",
              "        vertical-align: middle;\n",
              "    }\n",
              "\n",
              "    .dataframe tbody tr th {\n",
              "        vertical-align: top;\n",
              "    }\n",
              "\n",
              "    .dataframe thead th {\n",
              "        text-align: right;\n",
              "    }\n",
              "</style>\n",
              "<table border=\"1\" class=\"dataframe\">\n",
              "  <thead>\n",
              "    <tr style=\"text-align: right;\">\n",
              "      <th></th>\n",
              "      <th>sentiment</th>\n",
              "      <th>message</th>\n",
              "      <th>tweetid</th>\n",
              "    </tr>\n",
              "  </thead>\n",
              "  <tbody>\n",
              "    <tr>\n",
              "      <th>0</th>\n",
              "      <td>1</td>\n",
              "      <td>polyscimajor epa chief doesnt think carbon dio...</td>\n",
              "      <td>625221</td>\n",
              "    </tr>\n",
              "    <tr>\n",
              "      <th>1</th>\n",
              "      <td>1</td>\n",
              "      <td>its not like we lack evidence of anthropogenic...</td>\n",
              "      <td>126103</td>\n",
              "    </tr>\n",
              "    <tr>\n",
              "      <th>2</th>\n",
              "      <td>2</td>\n",
              "      <td>rt USER_REF researchers say we have three year...</td>\n",
              "      <td>698562</td>\n",
              "    </tr>\n",
              "    <tr>\n",
              "      <th>3</th>\n",
              "      <td>1</td>\n",
              "      <td>todayinmaker wired 2016 was a pivotal year in ...</td>\n",
              "      <td>573736</td>\n",
              "    </tr>\n",
              "    <tr>\n",
              "      <th>4</th>\n",
              "      <td>1</td>\n",
              "      <td>rt USER_REF its 2016 and a racist sexist clima...</td>\n",
              "      <td>466954</td>\n",
              "    </tr>\n",
              "    <tr>\n",
              "      <th>...</th>\n",
              "      <td>...</td>\n",
              "      <td>...</td>\n",
              "      <td>...</td>\n",
              "    </tr>\n",
              "    <tr>\n",
              "      <th>15814</th>\n",
              "      <td>1</td>\n",
              "      <td>rt USER_REF they took down the material on glo...</td>\n",
              "      <td>22001</td>\n",
              "    </tr>\n",
              "    <tr>\n",
              "      <th>15815</th>\n",
              "      <td>2</td>\n",
              "      <td>rt USER_REF how climate change could be breaki...</td>\n",
              "      <td>17856</td>\n",
              "    </tr>\n",
              "    <tr>\n",
              "      <th>15816</th>\n",
              "      <td>0</td>\n",
              "      <td>notiven rt nytimesworld what does trump actual...</td>\n",
              "      <td>384248</td>\n",
              "    </tr>\n",
              "    <tr>\n",
              "      <th>15817</th>\n",
              "      <td>-1</td>\n",
              "      <td>rt USER_REF hey liberals the climate change cr...</td>\n",
              "      <td>819732</td>\n",
              "    </tr>\n",
              "    <tr>\n",
              "      <th>15818</th>\n",
              "      <td>0</td>\n",
              "      <td>rt USER_REF USER_REF climate change equation i...</td>\n",
              "      <td>806319</td>\n",
              "    </tr>\n",
              "  </tbody>\n",
              "</table>\n",
              "<p>15819 rows × 3 columns</p>\n",
              "</div>"
            ],
            "text/plain": [
              "       sentiment                                            message  tweetid\n",
              "0              1  polyscimajor epa chief doesnt think carbon dio...   625221\n",
              "1              1  its not like we lack evidence of anthropogenic...   126103\n",
              "2              2  rt USER_REF researchers say we have three year...   698562\n",
              "3              1  todayinmaker wired 2016 was a pivotal year in ...   573736\n",
              "4              1  rt USER_REF its 2016 and a racist sexist clima...   466954\n",
              "...          ...                                                ...      ...\n",
              "15814          1  rt USER_REF they took down the material on glo...    22001\n",
              "15815          2  rt USER_REF how climate change could be breaki...    17856\n",
              "15816          0  notiven rt nytimesworld what does trump actual...   384248\n",
              "15817         -1  rt USER_REF hey liberals the climate change cr...   819732\n",
              "15818          0  rt USER_REF USER_REF climate change equation i...   806319\n",
              "\n",
              "[15819 rows x 3 columns]"
            ]
          },
          "metadata": {
            "tags": []
          },
          "execution_count": 19
        }
      ]
    },
    {
      "cell_type": "code",
      "metadata": {
        "id": "bRaM34T3jkNJ",
        "colab_type": "code",
        "colab": {}
      },
      "source": [
        "my_stop_words = stopwords.words('english')\n",
        "my_stop_words.append('LINK')\n",
        "my_stop_words.append('USER_REF')\n",
        "\n",
        "train_index = 0\n",
        "\n",
        "for tweet in train['message']:\n",
        "  tweet = word_tokenize(tweet)\n",
        "  tweet = [word for word in tweet if not word in my_stop_words]\n",
        "  tweet = ' '.join(tweet)\n",
        "\n",
        "  train.loc[train_index, 'message'] = tweet\n",
        "  train_index += 1"
      ],
      "execution_count": null,
      "outputs": []
    },
    {
      "cell_type": "code",
      "metadata": {
        "id": "NVmtW5ZLjozL",
        "colab_type": "code",
        "colab": {
          "base_uri": "https://localhost:8080/",
          "height": 419
        },
        "outputId": "d275ea89-2223-4685-f37c-88cca4113a4f"
      },
      "source": [
        "train"
      ],
      "execution_count": null,
      "outputs": [
        {
          "output_type": "execute_result",
          "data": {
            "text/html": [
              "<div>\n",
              "<style scoped>\n",
              "    .dataframe tbody tr th:only-of-type {\n",
              "        vertical-align: middle;\n",
              "    }\n",
              "\n",
              "    .dataframe tbody tr th {\n",
              "        vertical-align: top;\n",
              "    }\n",
              "\n",
              "    .dataframe thead th {\n",
              "        text-align: right;\n",
              "    }\n",
              "</style>\n",
              "<table border=\"1\" class=\"dataframe\">\n",
              "  <thead>\n",
              "    <tr style=\"text-align: right;\">\n",
              "      <th></th>\n",
              "      <th>sentiment</th>\n",
              "      <th>message</th>\n",
              "      <th>tweetid</th>\n",
              "    </tr>\n",
              "  </thead>\n",
              "  <tbody>\n",
              "    <tr>\n",
              "      <th>0</th>\n",
              "      <td>1</td>\n",
              "      <td>polyscimajor epa chief doesnt think carbon dio...</td>\n",
              "      <td>625221</td>\n",
              "    </tr>\n",
              "    <tr>\n",
              "      <th>1</th>\n",
              "      <td>1</td>\n",
              "      <td>like lack evidence anthropogenic global warming</td>\n",
              "      <td>126103</td>\n",
              "    </tr>\n",
              "    <tr>\n",
              "      <th>2</th>\n",
              "      <td>2</td>\n",
              "      <td>rt researchers say three years act climate cha...</td>\n",
              "      <td>698562</td>\n",
              "    </tr>\n",
              "    <tr>\n",
              "      <th>3</th>\n",
              "      <td>1</td>\n",
              "      <td>todayinmaker wired 2016 pivotal year war clima...</td>\n",
              "      <td>573736</td>\n",
              "    </tr>\n",
              "    <tr>\n",
              "      <th>4</th>\n",
              "      <td>1</td>\n",
              "      <td>rt 2016 racist sexist climate change denying b...</td>\n",
              "      <td>466954</td>\n",
              "    </tr>\n",
              "    <tr>\n",
              "      <th>...</th>\n",
              "      <td>...</td>\n",
              "      <td>...</td>\n",
              "      <td>...</td>\n",
              "    </tr>\n",
              "    <tr>\n",
              "      <th>15814</th>\n",
              "      <td>1</td>\n",
              "      <td>rt took material global warming lgbt rights he...</td>\n",
              "      <td>22001</td>\n",
              "    </tr>\n",
              "    <tr>\n",
              "      <th>15815</th>\n",
              "      <td>2</td>\n",
              "      <td>rt climate change could breaking 200millionyea...</td>\n",
              "      <td>17856</td>\n",
              "    </tr>\n",
              "    <tr>\n",
              "      <th>15816</th>\n",
              "      <td>0</td>\n",
              "      <td>notiven rt nytimesworld trump actually believe...</td>\n",
              "      <td>384248</td>\n",
              "    </tr>\n",
              "    <tr>\n",
              "      <th>15817</th>\n",
              "      <td>-1</td>\n",
              "      <td>rt hey liberals climate change crap hoax ties ...</td>\n",
              "      <td>819732</td>\n",
              "    </tr>\n",
              "    <tr>\n",
              "      <th>15818</th>\n",
              "      <td>0</td>\n",
              "      <td>rt climate change equation 4 screenshots</td>\n",
              "      <td>806319</td>\n",
              "    </tr>\n",
              "  </tbody>\n",
              "</table>\n",
              "<p>15819 rows × 3 columns</p>\n",
              "</div>"
            ],
            "text/plain": [
              "       sentiment                                            message  tweetid\n",
              "0              1  polyscimajor epa chief doesnt think carbon dio...   625221\n",
              "1              1    like lack evidence anthropogenic global warming   126103\n",
              "2              2  rt researchers say three years act climate cha...   698562\n",
              "3              1  todayinmaker wired 2016 pivotal year war clima...   573736\n",
              "4              1  rt 2016 racist sexist climate change denying b...   466954\n",
              "...          ...                                                ...      ...\n",
              "15814          1  rt took material global warming lgbt rights he...    22001\n",
              "15815          2  rt climate change could breaking 200millionyea...    17856\n",
              "15816          0  notiven rt nytimesworld trump actually believe...   384248\n",
              "15817         -1  rt hey liberals climate change crap hoax ties ...   819732\n",
              "15818          0           rt climate change equation 4 screenshots   806319\n",
              "\n",
              "[15819 rows x 3 columns]"
            ]
          },
          "metadata": {
            "tags": []
          },
          "execution_count": 23
        }
      ]
    },
    {
      "cell_type": "code",
      "metadata": {
        "id": "4HISNTJcj9tI",
        "colab_type": "code",
        "colab": {}
      },
      "source": [
        "train_index = 0\n",
        "\n",
        "for tweet in train['message']:\n",
        "  tweet = nlp(tweet)\n",
        "\n",
        "  for entity in tweet.ents:\n",
        "    train.loc[train_index, 'message'] = train.loc[train_index, 'message'].replace(str(entity.text), str(entity.label_))\n",
        "\n",
        "  train_index += 1"
      ],
      "execution_count": null,
      "outputs": []
    },
    {
      "cell_type": "code",
      "metadata": {
        "id": "YT8AYxElkTYP",
        "colab_type": "code",
        "colab": {
          "base_uri": "https://localhost:8080/",
          "height": 419
        },
        "outputId": "d5479063-c54a-4201-851e-228492653971"
      },
      "source": [
        "train"
      ],
      "execution_count": null,
      "outputs": [
        {
          "output_type": "execute_result",
          "data": {
            "text/html": [
              "<div>\n",
              "<style scoped>\n",
              "    .dataframe tbody tr th:only-of-type {\n",
              "        vertical-align: middle;\n",
              "    }\n",
              "\n",
              "    .dataframe tbody tr th {\n",
              "        vertical-align: top;\n",
              "    }\n",
              "\n",
              "    .dataframe thead th {\n",
              "        text-align: right;\n",
              "    }\n",
              "</style>\n",
              "<table border=\"1\" class=\"dataframe\">\n",
              "  <thead>\n",
              "    <tr style=\"text-align: right;\">\n",
              "      <th></th>\n",
              "      <th>sentiment</th>\n",
              "      <th>message</th>\n",
              "      <th>tweetid</th>\n",
              "    </tr>\n",
              "  </thead>\n",
              "  <tbody>\n",
              "    <tr>\n",
              "      <th>0</th>\n",
              "      <td>1</td>\n",
              "      <td>ORG chief doesnt think carbon dioxide main cau...</td>\n",
              "      <td>625221</td>\n",
              "    </tr>\n",
              "    <tr>\n",
              "      <th>1</th>\n",
              "      <td>1</td>\n",
              "      <td>like lack evidence anthropogenic global warming</td>\n",
              "      <td>126103</td>\n",
              "    </tr>\n",
              "    <tr>\n",
              "      <th>2</th>\n",
              "      <td>2</td>\n",
              "      <td>rt researchers say DATE act climate change late</td>\n",
              "      <td>698562</td>\n",
              "    </tr>\n",
              "    <tr>\n",
              "      <th>3</th>\n",
              "      <td>1</td>\n",
              "      <td>todayinmaker wired DATE pivotal year war clima...</td>\n",
              "      <td>573736</td>\n",
              "    </tr>\n",
              "    <tr>\n",
              "      <th>4</th>\n",
              "      <td>1</td>\n",
              "      <td>rt DATE racist sexist climate change denying b...</td>\n",
              "      <td>466954</td>\n",
              "    </tr>\n",
              "    <tr>\n",
              "      <th>...</th>\n",
              "      <td>...</td>\n",
              "      <td>...</td>\n",
              "      <td>...</td>\n",
              "    </tr>\n",
              "    <tr>\n",
              "      <th>15814</th>\n",
              "      <td>1</td>\n",
              "      <td>rt took material global warming lgbt rights he...</td>\n",
              "      <td>22001</td>\n",
              "    </tr>\n",
              "    <tr>\n",
              "      <th>15815</th>\n",
              "      <td>2</td>\n",
              "      <td>rt climate change could breaking CARDINAL rela...</td>\n",
              "      <td>17856</td>\n",
              "    </tr>\n",
              "    <tr>\n",
              "      <th>15816</th>\n",
              "      <td>0</td>\n",
              "      <td>PERSON rt nytimesworld trump actually believe ...</td>\n",
              "      <td>384248</td>\n",
              "    </tr>\n",
              "    <tr>\n",
              "      <th>15817</th>\n",
              "      <td>-1</td>\n",
              "      <td>rt hey liberals climate change crap hoax ties ...</td>\n",
              "      <td>819732</td>\n",
              "    </tr>\n",
              "    <tr>\n",
              "      <th>15818</th>\n",
              "      <td>0</td>\n",
              "      <td>rt climate change equation CARDINAL screenshots</td>\n",
              "      <td>806319</td>\n",
              "    </tr>\n",
              "  </tbody>\n",
              "</table>\n",
              "<p>15819 rows × 3 columns</p>\n",
              "</div>"
            ],
            "text/plain": [
              "       sentiment                                            message  tweetid\n",
              "0              1  ORG chief doesnt think carbon dioxide main cau...   625221\n",
              "1              1    like lack evidence anthropogenic global warming   126103\n",
              "2              2    rt researchers say DATE act climate change late   698562\n",
              "3              1  todayinmaker wired DATE pivotal year war clima...   573736\n",
              "4              1  rt DATE racist sexist climate change denying b...   466954\n",
              "...          ...                                                ...      ...\n",
              "15814          1  rt took material global warming lgbt rights he...    22001\n",
              "15815          2  rt climate change could breaking CARDINAL rela...    17856\n",
              "15816          0  PERSON rt nytimesworld trump actually believe ...   384248\n",
              "15817         -1  rt hey liberals climate change crap hoax ties ...   819732\n",
              "15818          0    rt climate change equation CARDINAL screenshots   806319\n",
              "\n",
              "[15819 rows x 3 columns]"
            ]
          },
          "metadata": {
            "tags": []
          },
          "execution_count": 27
        }
      ]
    },
    {
      "cell_type": "code",
      "metadata": {
        "id": "A490Wi48k_gs",
        "colab_type": "code",
        "colab": {}
      },
      "source": [
        "train_index = 0\n",
        "\n",
        "for tweet in train['message']:\n",
        "  tweet = nlp(tweet)\n",
        "  \n",
        "  for token in tweet:\n",
        "    train.loc[train_index, 'message'] = train.loc[train_index, 'message'].replace(str(token.text), str(token.lemma_))\n",
        "\n",
        "  train_index += 1"
      ],
      "execution_count": null,
      "outputs": []
    },
    {
      "cell_type": "code",
      "metadata": {
        "id": "7hiRiNoklIfR",
        "colab_type": "code",
        "colab": {
          "base_uri": "https://localhost:8080/",
          "height": 419
        },
        "outputId": "523cbd24-3512-474c-98e9-3b0f4f04c672"
      },
      "source": [
        "train"
      ],
      "execution_count": null,
      "outputs": [
        {
          "output_type": "execute_result",
          "data": {
            "text/html": [
              "<div>\n",
              "<style scoped>\n",
              "    .dataframe tbody tr th:only-of-type {\n",
              "        vertical-align: middle;\n",
              "    }\n",
              "\n",
              "    .dataframe tbody tr th {\n",
              "        vertical-align: top;\n",
              "    }\n",
              "\n",
              "    .dataframe thead th {\n",
              "        text-align: right;\n",
              "    }\n",
              "</style>\n",
              "<table border=\"1\" class=\"dataframe\">\n",
              "  <thead>\n",
              "    <tr style=\"text-align: right;\">\n",
              "      <th></th>\n",
              "      <th>sentiment</th>\n",
              "      <th>message</th>\n",
              "      <th>tweetid</th>\n",
              "    </tr>\n",
              "  </thead>\n",
              "  <tbody>\n",
              "    <tr>\n",
              "      <th>0</th>\n",
              "      <td>1</td>\n",
              "      <td>ORG chief donot think carbon dioxide main caus...</td>\n",
              "      <td>625221</td>\n",
              "    </tr>\n",
              "    <tr>\n",
              "      <th>1</th>\n",
              "      <td>1</td>\n",
              "      <td>like lack evidence anthropogenic global warming</td>\n",
              "      <td>126103</td>\n",
              "    </tr>\n",
              "    <tr>\n",
              "      <th>2</th>\n",
              "      <td>2</td>\n",
              "      <td>rt researcher say DATE act climate change late</td>\n",
              "      <td>698562</td>\n",
              "    </tr>\n",
              "    <tr>\n",
              "      <th>3</th>\n",
              "      <td>1</td>\n",
              "      <td>todayinmaker wire DATE pivotal year war climat...</td>\n",
              "      <td>573736</td>\n",
              "    </tr>\n",
              "    <tr>\n",
              "      <th>4</th>\n",
              "      <td>1</td>\n",
              "      <td>rt DATE racist sexist climate change deny bigo...</td>\n",
              "      <td>466954</td>\n",
              "    </tr>\n",
              "    <tr>\n",
              "      <th>...</th>\n",
              "      <td>...</td>\n",
              "      <td>...</td>\n",
              "      <td>...</td>\n",
              "    </tr>\n",
              "    <tr>\n",
              "      <th>15814</th>\n",
              "      <td>1</td>\n",
              "      <td>rt take material global warming lgbt right hea...</td>\n",
              "      <td>22001</td>\n",
              "    </tr>\n",
              "    <tr>\n",
              "      <th>15815</th>\n",
              "      <td>2</td>\n",
              "      <td>rt climate change could break CARDINAL relatio...</td>\n",
              "      <td>17856</td>\n",
              "    </tr>\n",
              "    <tr>\n",
              "      <th>15816</th>\n",
              "      <td>0</td>\n",
              "      <td>person rt nytimesworld trump actually believe ...</td>\n",
              "      <td>384248</td>\n",
              "    </tr>\n",
              "    <tr>\n",
              "      <th>15817</th>\n",
              "      <td>-1</td>\n",
              "      <td>rt hey liberal climate change crap hoax ties a...</td>\n",
              "      <td>819732</td>\n",
              "    </tr>\n",
              "    <tr>\n",
              "      <th>15818</th>\n",
              "      <td>0</td>\n",
              "      <td>rt climate change equation CARDINAL screenshot</td>\n",
              "      <td>806319</td>\n",
              "    </tr>\n",
              "  </tbody>\n",
              "</table>\n",
              "<p>15819 rows × 3 columns</p>\n",
              "</div>"
            ],
            "text/plain": [
              "       sentiment                                            message  tweetid\n",
              "0              1  ORG chief donot think carbon dioxide main caus...   625221\n",
              "1              1    like lack evidence anthropogenic global warming   126103\n",
              "2              2     rt researcher say DATE act climate change late   698562\n",
              "3              1  todayinmaker wire DATE pivotal year war climat...   573736\n",
              "4              1  rt DATE racist sexist climate change deny bigo...   466954\n",
              "...          ...                                                ...      ...\n",
              "15814          1  rt take material global warming lgbt right hea...    22001\n",
              "15815          2  rt climate change could break CARDINAL relatio...    17856\n",
              "15816          0  person rt nytimesworld trump actually believe ...   384248\n",
              "15817         -1  rt hey liberal climate change crap hoax ties a...   819732\n",
              "15818          0     rt climate change equation CARDINAL screenshot   806319\n",
              "\n",
              "[15819 rows x 3 columns]"
            ]
          },
          "metadata": {
            "tags": []
          },
          "execution_count": 29
        }
      ]
    },
    {
      "cell_type": "code",
      "metadata": {
        "id": "8teFXBWNmNhk",
        "colab_type": "code",
        "colab": {}
      },
      "source": [
        "j = 0\n",
        "for message in test['message']:\n",
        "  message = message.lower()\n",
        "  message = re.sub(r'http\\S+', 'LINK', message)\n",
        "  message = re.sub(r'@\\S+', 'USER_REF', message)\n",
        "  message = re.sub(r'[^\\w\\s]', '', message)\n",
        "  message = message.lstrip()\n",
        "  message = message.rstrip()\n",
        "  message = message.replace('  ', ' ')\n",
        "  test.loc[j, 'message'] = message\n",
        "  j += 1"
      ],
      "execution_count": null,
      "outputs": []
    },
    {
      "cell_type": "code",
      "metadata": {
        "id": "Z2xAI5i2mU6t",
        "colab_type": "code",
        "colab": {
          "base_uri": "https://localhost:8080/",
          "height": 419
        },
        "outputId": "5c16cab1-b251-4e08-9b26-d707cd8e17d0"
      },
      "source": [
        "test"
      ],
      "execution_count": null,
      "outputs": [
        {
          "output_type": "execute_result",
          "data": {
            "text/html": [
              "<div>\n",
              "<style scoped>\n",
              "    .dataframe tbody tr th:only-of-type {\n",
              "        vertical-align: middle;\n",
              "    }\n",
              "\n",
              "    .dataframe tbody tr th {\n",
              "        vertical-align: top;\n",
              "    }\n",
              "\n",
              "    .dataframe thead th {\n",
              "        text-align: right;\n",
              "    }\n",
              "</style>\n",
              "<table border=\"1\" class=\"dataframe\">\n",
              "  <thead>\n",
              "    <tr style=\"text-align: right;\">\n",
              "      <th></th>\n",
              "      <th>message</th>\n",
              "      <th>tweetid</th>\n",
              "    </tr>\n",
              "  </thead>\n",
              "  <tbody>\n",
              "    <tr>\n",
              "      <th>0</th>\n",
              "      <td>europe will now be looking to china to make su...</td>\n",
              "      <td>169760</td>\n",
              "    </tr>\n",
              "    <tr>\n",
              "      <th>1</th>\n",
              "      <td>combine this with the polling of staffers re c...</td>\n",
              "      <td>35326</td>\n",
              "    </tr>\n",
              "    <tr>\n",
              "      <th>2</th>\n",
              "      <td>the scary unimpeachable evidence that climate ...</td>\n",
              "      <td>224985</td>\n",
              "    </tr>\n",
              "    <tr>\n",
              "      <th>3</th>\n",
              "      <td>USER_REF USER_REF USER_REF USER_REF \\nputin go...</td>\n",
              "      <td>476263</td>\n",
              "    </tr>\n",
              "    <tr>\n",
              "      <th>4</th>\n",
              "      <td>rt USER_REF female orgasms cause global warmin...</td>\n",
              "      <td>872928</td>\n",
              "    </tr>\n",
              "    <tr>\n",
              "      <th>...</th>\n",
              "      <td>...</td>\n",
              "      <td>...</td>\n",
              "    </tr>\n",
              "    <tr>\n",
              "      <th>10541</th>\n",
              "      <td>rt USER_REF brb writing a poem about climate c...</td>\n",
              "      <td>895714</td>\n",
              "    </tr>\n",
              "    <tr>\n",
              "      <th>10542</th>\n",
              "      <td>2016 the year climate change came home during ...</td>\n",
              "      <td>875167</td>\n",
              "    </tr>\n",
              "    <tr>\n",
              "      <th>10543</th>\n",
              "      <td>rt USER_REF pacific countries positive about f...</td>\n",
              "      <td>78329</td>\n",
              "    </tr>\n",
              "    <tr>\n",
              "      <th>10544</th>\n",
              "      <td>rt USER_REF youre so hot you must be the cause...</td>\n",
              "      <td>867455</td>\n",
              "    </tr>\n",
              "    <tr>\n",
              "      <th>10545</th>\n",
              "      <td>rt USER_REF climate change is a global issue t...</td>\n",
              "      <td>470892</td>\n",
              "    </tr>\n",
              "  </tbody>\n",
              "</table>\n",
              "<p>10546 rows × 2 columns</p>\n",
              "</div>"
            ],
            "text/plain": [
              "                                                 message  tweetid\n",
              "0      europe will now be looking to china to make su...   169760\n",
              "1      combine this with the polling of staffers re c...    35326\n",
              "2      the scary unimpeachable evidence that climate ...   224985\n",
              "3      USER_REF USER_REF USER_REF USER_REF \\nputin go...   476263\n",
              "4      rt USER_REF female orgasms cause global warmin...   872928\n",
              "...                                                  ...      ...\n",
              "10541  rt USER_REF brb writing a poem about climate c...   895714\n",
              "10542  2016 the year climate change came home during ...   875167\n",
              "10543  rt USER_REF pacific countries positive about f...    78329\n",
              "10544  rt USER_REF youre so hot you must be the cause...   867455\n",
              "10545  rt USER_REF climate change is a global issue t...   470892\n",
              "\n",
              "[10546 rows x 2 columns]"
            ]
          },
          "metadata": {
            "tags": []
          },
          "execution_count": 31
        }
      ]
    },
    {
      "cell_type": "code",
      "metadata": {
        "id": "rhlUXXPlmbck",
        "colab_type": "code",
        "colab": {}
      },
      "source": [
        "test_index = 0\n",
        "\n",
        "for message in test['message']:\n",
        "  message = word_tokenize(message)\n",
        "  message = [word for word in message if not word in my_stop_words]\n",
        "  message = ' '.join(message)\n",
        "\n",
        "  test.loc[test_index, 'message'] = message\n",
        "  test_index += 1"
      ],
      "execution_count": null,
      "outputs": []
    },
    {
      "cell_type": "code",
      "metadata": {
        "id": "8VJmrtobmgEL",
        "colab_type": "code",
        "colab": {
          "base_uri": "https://localhost:8080/",
          "height": 419
        },
        "outputId": "8744c9a8-23f5-4de7-cddb-e9870283cdf3"
      },
      "source": [
        "test"
      ],
      "execution_count": null,
      "outputs": [
        {
          "output_type": "execute_result",
          "data": {
            "text/html": [
              "<div>\n",
              "<style scoped>\n",
              "    .dataframe tbody tr th:only-of-type {\n",
              "        vertical-align: middle;\n",
              "    }\n",
              "\n",
              "    .dataframe tbody tr th {\n",
              "        vertical-align: top;\n",
              "    }\n",
              "\n",
              "    .dataframe thead th {\n",
              "        text-align: right;\n",
              "    }\n",
              "</style>\n",
              "<table border=\"1\" class=\"dataframe\">\n",
              "  <thead>\n",
              "    <tr style=\"text-align: right;\">\n",
              "      <th></th>\n",
              "      <th>message</th>\n",
              "      <th>tweetid</th>\n",
              "    </tr>\n",
              "  </thead>\n",
              "  <tbody>\n",
              "    <tr>\n",
              "      <th>0</th>\n",
              "      <td>europe looking china make sure alone fighting ...</td>\n",
              "      <td>169760</td>\n",
              "    </tr>\n",
              "    <tr>\n",
              "      <th>1</th>\n",
              "      <td>combine polling staffers climate change womens...</td>\n",
              "      <td>35326</td>\n",
              "    </tr>\n",
              "    <tr>\n",
              "      <th>2</th>\n",
              "      <td>scary unimpeachable evidence climate change al...</td>\n",
              "      <td>224985</td>\n",
              "    </tr>\n",
              "    <tr>\n",
              "      <th>3</th>\n",
              "      <td>putin got jill trump doesnt believe climate ch...</td>\n",
              "      <td>476263</td>\n",
              "    </tr>\n",
              "    <tr>\n",
              "      <th>4</th>\n",
              "      <td>rt female orgasms cause global warming sarcast...</td>\n",
              "      <td>872928</td>\n",
              "    </tr>\n",
              "    <tr>\n",
              "      <th>...</th>\n",
              "      <td>...</td>\n",
              "      <td>...</td>\n",
              "    </tr>\n",
              "    <tr>\n",
              "      <th>10541</th>\n",
              "      <td>rt brb writing poem climate change climatechan...</td>\n",
              "      <td>895714</td>\n",
              "    </tr>\n",
              "    <tr>\n",
              "      <th>10542</th>\n",
              "      <td>2016 year climate change came home hottest yea...</td>\n",
              "      <td>875167</td>\n",
              "    </tr>\n",
              "    <tr>\n",
              "      <th>10543</th>\n",
              "      <td>rt pacific countries positive fiji leading glo...</td>\n",
              "      <td>78329</td>\n",
              "    </tr>\n",
              "    <tr>\n",
              "      <th>10544</th>\n",
              "      <td>rt youre hot must cause global warming aldubla...</td>\n",
              "      <td>867455</td>\n",
              "    </tr>\n",
              "    <tr>\n",
              "      <th>10545</th>\n",
              "      <td>rt climate change global issue thats getting w...</td>\n",
              "      <td>470892</td>\n",
              "    </tr>\n",
              "  </tbody>\n",
              "</table>\n",
              "<p>10546 rows × 2 columns</p>\n",
              "</div>"
            ],
            "text/plain": [
              "                                                 message  tweetid\n",
              "0      europe looking china make sure alone fighting ...   169760\n",
              "1      combine polling staffers climate change womens...    35326\n",
              "2      scary unimpeachable evidence climate change al...   224985\n",
              "3      putin got jill trump doesnt believe climate ch...   476263\n",
              "4      rt female orgasms cause global warming sarcast...   872928\n",
              "...                                                  ...      ...\n",
              "10541  rt brb writing poem climate change climatechan...   895714\n",
              "10542  2016 year climate change came home hottest yea...   875167\n",
              "10543  rt pacific countries positive fiji leading glo...    78329\n",
              "10544  rt youre hot must cause global warming aldubla...   867455\n",
              "10545  rt climate change global issue thats getting w...   470892\n",
              "\n",
              "[10546 rows x 2 columns]"
            ]
          },
          "metadata": {
            "tags": []
          },
          "execution_count": 33
        }
      ]
    },
    {
      "cell_type": "code",
      "metadata": {
        "id": "HZknq7wbmlog",
        "colab_type": "code",
        "colab": {}
      },
      "source": [
        "test_index = 0\n",
        "\n",
        "for message in test['message']:\n",
        "  message = nlp(message)\n",
        "\n",
        "  for entity in message.ents:\n",
        "    test.loc[test_index, 'message'] = test.loc[test_index, 'message'].replace(str(entity.text), str(entity.label_))\n",
        "\n",
        "  test_index += 1"
      ],
      "execution_count": null,
      "outputs": []
    },
    {
      "cell_type": "code",
      "metadata": {
        "id": "H3PBxYcgmupb",
        "colab_type": "code",
        "colab": {
          "base_uri": "https://localhost:8080/",
          "height": 419
        },
        "outputId": "371f46dd-c442-4d55-94b4-1ec3800fd75a"
      },
      "source": [
        "test"
      ],
      "execution_count": null,
      "outputs": [
        {
          "output_type": "execute_result",
          "data": {
            "text/html": [
              "<div>\n",
              "<style scoped>\n",
              "    .dataframe tbody tr th:only-of-type {\n",
              "        vertical-align: middle;\n",
              "    }\n",
              "\n",
              "    .dataframe tbody tr th {\n",
              "        vertical-align: top;\n",
              "    }\n",
              "\n",
              "    .dataframe thead th {\n",
              "        text-align: right;\n",
              "    }\n",
              "</style>\n",
              "<table border=\"1\" class=\"dataframe\">\n",
              "  <thead>\n",
              "    <tr style=\"text-align: right;\">\n",
              "      <th></th>\n",
              "      <th>message</th>\n",
              "      <th>tweetid</th>\n",
              "    </tr>\n",
              "  </thead>\n",
              "  <tbody>\n",
              "    <tr>\n",
              "      <th>0</th>\n",
              "      <td>LOC looking GPE make sure alone fighting clima...</td>\n",
              "      <td>169760</td>\n",
              "    </tr>\n",
              "    <tr>\n",
              "      <th>1</th>\n",
              "      <td>combine polling staffers climate change womens...</td>\n",
              "      <td>35326</td>\n",
              "    </tr>\n",
              "    <tr>\n",
              "      <th>2</th>\n",
              "      <td>scary unimpeachable evidence climate change al...</td>\n",
              "      <td>224985</td>\n",
              "    </tr>\n",
              "    <tr>\n",
              "      <th>3</th>\n",
              "      <td>PERSON got PERSON doesnt believe climate chang...</td>\n",
              "      <td>476263</td>\n",
              "    </tr>\n",
              "    <tr>\n",
              "      <th>4</th>\n",
              "      <td>rt female orgasms cause global warming sarcast...</td>\n",
              "      <td>872928</td>\n",
              "    </tr>\n",
              "    <tr>\n",
              "      <th>...</th>\n",
              "      <td>...</td>\n",
              "      <td>...</td>\n",
              "    </tr>\n",
              "    <tr>\n",
              "      <th>10541</th>\n",
              "      <td>rt brb writing poem climate change climatechan...</td>\n",
              "      <td>895714</td>\n",
              "    </tr>\n",
              "    <tr>\n",
              "      <th>10542</th>\n",
              "      <td>DATE climate change came home hottest DATE rec...</td>\n",
              "      <td>875167</td>\n",
              "    </tr>\n",
              "    <tr>\n",
              "      <th>10543</th>\n",
              "      <td>rt pacific countries positive GPE leading glob...</td>\n",
              "      <td>78329</td>\n",
              "    </tr>\n",
              "    <tr>\n",
              "      <th>10544</th>\n",
              "      <td>rt youre hot must cause global warming aldubla...</td>\n",
              "      <td>867455</td>\n",
              "    </tr>\n",
              "    <tr>\n",
              "      <th>10545</th>\n",
              "      <td>rt climate change global issue thats getting w...</td>\n",
              "      <td>470892</td>\n",
              "    </tr>\n",
              "  </tbody>\n",
              "</table>\n",
              "<p>10546 rows × 2 columns</p>\n",
              "</div>"
            ],
            "text/plain": [
              "                                                 message  tweetid\n",
              "0      LOC looking GPE make sure alone fighting clima...   169760\n",
              "1      combine polling staffers climate change womens...    35326\n",
              "2      scary unimpeachable evidence climate change al...   224985\n",
              "3      PERSON got PERSON doesnt believe climate chang...   476263\n",
              "4      rt female orgasms cause global warming sarcast...   872928\n",
              "...                                                  ...      ...\n",
              "10541  rt brb writing poem climate change climatechan...   895714\n",
              "10542  DATE climate change came home hottest DATE rec...   875167\n",
              "10543  rt pacific countries positive GPE leading glob...    78329\n",
              "10544  rt youre hot must cause global warming aldubla...   867455\n",
              "10545  rt climate change global issue thats getting w...   470892\n",
              "\n",
              "[10546 rows x 2 columns]"
            ]
          },
          "metadata": {
            "tags": []
          },
          "execution_count": 35
        }
      ]
    },
    {
      "cell_type": "code",
      "metadata": {
        "id": "ZgnnPSsxnJNb",
        "colab_type": "code",
        "colab": {}
      },
      "source": [
        "test_index = 0\n",
        "\n",
        "for message in test['message']:\n",
        "  message = nlp(message)\n",
        "  \n",
        "  for token in message:\n",
        "    test.loc[test_index, 'message'] = test.loc[test_index, 'message'].replace(str(token.text), str(token.lemma_))\n",
        "\n",
        "  test_index += 1"
      ],
      "execution_count": null,
      "outputs": []
    },
    {
      "cell_type": "code",
      "metadata": {
        "id": "L-Q_Or3qnVpS",
        "colab_type": "code",
        "colab": {
          "base_uri": "https://localhost:8080/",
          "height": 419
        },
        "outputId": "793a3ded-92bc-4259-edc6-2a9e6ea4983c"
      },
      "source": [
        "test"
      ],
      "execution_count": null,
      "outputs": [
        {
          "output_type": "execute_result",
          "data": {
            "text/html": [
              "<div>\n",
              "<style scoped>\n",
              "    .dataframe tbody tr th:only-of-type {\n",
              "        vertical-align: middle;\n",
              "    }\n",
              "\n",
              "    .dataframe tbody tr th {\n",
              "        vertical-align: top;\n",
              "    }\n",
              "\n",
              "    .dataframe thead th {\n",
              "        text-align: right;\n",
              "    }\n",
              "</style>\n",
              "<table border=\"1\" class=\"dataframe\">\n",
              "  <thead>\n",
              "    <tr style=\"text-align: right;\">\n",
              "      <th></th>\n",
              "      <th>message</th>\n",
              "      <th>tweetid</th>\n",
              "    </tr>\n",
              "  </thead>\n",
              "  <tbody>\n",
              "    <tr>\n",
              "      <th>0</th>\n",
              "      <td>LOC look GPE make sure alone fight climate change</td>\n",
              "      <td>169760</td>\n",
              "    </tr>\n",
              "    <tr>\n",
              "      <th>1</th>\n",
              "      <td>combine polling staffer climate change women r...</td>\n",
              "      <td>35326</td>\n",
              "    </tr>\n",
              "    <tr>\n",
              "      <th>2</th>\n",
              "      <td>scary unimpeachable evidence climate change al...</td>\n",
              "      <td>224985</td>\n",
              "    </tr>\n",
              "    <tr>\n",
              "      <th>3</th>\n",
              "      <td>person get person donot believe climate change...</td>\n",
              "      <td>476263</td>\n",
              "    </tr>\n",
              "    <tr>\n",
              "      <th>4</th>\n",
              "      <td>rt female orgasm cause global warm sarcastic NORP</td>\n",
              "      <td>872928</td>\n",
              "    </tr>\n",
              "    <tr>\n",
              "      <th>...</th>\n",
              "      <td>...</td>\n",
              "      <td>...</td>\n",
              "    </tr>\n",
              "    <tr>\n",
              "      <th>10541</th>\n",
              "      <td>rt brb write poem climate change climatechange...</td>\n",
              "      <td>895714</td>\n",
              "    </tr>\n",
              "    <tr>\n",
              "      <th>10542</th>\n",
              "      <td>date climate change come home hot date record ...</td>\n",
              "      <td>875167</td>\n",
              "    </tr>\n",
              "    <tr>\n",
              "      <th>10543</th>\n",
              "      <td>rt pacific country positive GPE lead global cl...</td>\n",
              "      <td>78329</td>\n",
              "    </tr>\n",
              "    <tr>\n",
              "      <th>10544</th>\n",
              "      <td>rt -PRON-be hot must cause global warming aldu...</td>\n",
              "      <td>867455</td>\n",
              "    </tr>\n",
              "    <tr>\n",
              "      <th>10545</th>\n",
              "      <td>rt climate change global issue thats get bad e...</td>\n",
              "      <td>470892</td>\n",
              "    </tr>\n",
              "  </tbody>\n",
              "</table>\n",
              "<p>10546 rows × 2 columns</p>\n",
              "</div>"
            ],
            "text/plain": [
              "                                                 message  tweetid\n",
              "0      LOC look GPE make sure alone fight climate change   169760\n",
              "1      combine polling staffer climate change women r...    35326\n",
              "2      scary unimpeachable evidence climate change al...   224985\n",
              "3      person get person donot believe climate change...   476263\n",
              "4      rt female orgasm cause global warm sarcastic NORP   872928\n",
              "...                                                  ...      ...\n",
              "10541  rt brb write poem climate change climatechange...   895714\n",
              "10542  date climate change come home hot date record ...   875167\n",
              "10543  rt pacific country positive GPE lead global cl...    78329\n",
              "10544  rt -PRON-be hot must cause global warming aldu...   867455\n",
              "10545  rt climate change global issue thats get bad e...   470892\n",
              "\n",
              "[10546 rows x 2 columns]"
            ]
          },
          "metadata": {
            "tags": []
          },
          "execution_count": 37
        }
      ]
    },
    {
      "cell_type": "code",
      "metadata": {
        "id": "STTboX79ozzr",
        "colab_type": "code",
        "colab": {
          "base_uri": "https://localhost:8080/",
          "height": 221
        },
        "outputId": "7c0b082c-aff0-4bbe-968d-ad9688cc40eb"
      },
      "source": [
        "X_train = train['message']\n",
        "X_train"
      ],
      "execution_count": null,
      "outputs": [
        {
          "output_type": "execute_result",
          "data": {
            "text/plain": [
              "0        ORG chief donot think carbon dioxide main caus...\n",
              "1          like lack evidence anthropogenic global warming\n",
              "2           rt researcher say DATE act climate change late\n",
              "3        todayinmaker wire DATE pivotal year war climat...\n",
              "4        rt DATE racist sexist climate change deny bigo...\n",
              "                               ...                        \n",
              "15814    rt take material global warming lgbt right hea...\n",
              "15815    rt climate change could break CARDINAL relatio...\n",
              "15816    person rt nytimesworld trump actually believe ...\n",
              "15817    rt hey liberal climate change crap hoax ties a...\n",
              "15818       rt climate change equation CARDINAL screenshot\n",
              "Name: message, Length: 15819, dtype: object"
            ]
          },
          "metadata": {
            "tags": []
          },
          "execution_count": 38
        }
      ]
    },
    {
      "cell_type": "code",
      "metadata": {
        "id": "S9v3Daf7o5VN",
        "colab_type": "code",
        "colab": {
          "base_uri": "https://localhost:8080/",
          "height": 221
        },
        "outputId": "6a71c553-4885-4a5d-d2af-3a1ba075d066"
      },
      "source": [
        "y_train = train['sentiment']\n",
        "y_train"
      ],
      "execution_count": null,
      "outputs": [
        {
          "output_type": "execute_result",
          "data": {
            "text/plain": [
              "0        1\n",
              "1        1\n",
              "2        2\n",
              "3        1\n",
              "4        1\n",
              "        ..\n",
              "15814    1\n",
              "15815    2\n",
              "15816    0\n",
              "15817   -1\n",
              "15818    0\n",
              "Name: sentiment, Length: 15819, dtype: int64"
            ]
          },
          "metadata": {
            "tags": []
          },
          "execution_count": 39
        }
      ]
    },
    {
      "cell_type": "code",
      "metadata": {
        "id": "Mj3aLXh7o9Tw",
        "colab_type": "code",
        "colab": {}
      },
      "source": [
        "X_train = tf_vect.fit_transform(X_train)"
      ],
      "execution_count": null,
      "outputs": []
    },
    {
      "cell_type": "code",
      "metadata": {
        "id": "3EcLpNelpOj-",
        "colab_type": "code",
        "colab": {}
      },
      "source": [
        "X_test = test['message']"
      ],
      "execution_count": null,
      "outputs": []
    },
    {
      "cell_type": "code",
      "metadata": {
        "id": "13mORVJNpRZ0",
        "colab_type": "code",
        "colab": {}
      },
      "source": [
        "X_test = tf_vect.transform(X_test)"
      ],
      "execution_count": null,
      "outputs": []
    },
    {
      "cell_type": "code",
      "metadata": {
        "id": "D4wFMtmIpU5R",
        "colab_type": "code",
        "colab": {}
      },
      "source": [
        "sv = SVC()"
      ],
      "execution_count": null,
      "outputs": []
    },
    {
      "cell_type": "code",
      "metadata": {
        "id": "pgHKovzKpbF9",
        "colab_type": "code",
        "colab": {
          "base_uri": "https://localhost:8080/",
          "height": 34
        },
        "outputId": "a46cb2de-4894-4a70-b6d2-ce7897b6dc27"
      },
      "source": [
        "sv_accuracy = accuracy(sv)\n",
        "sv_accuracy"
      ],
      "execution_count": null,
      "outputs": [
        {
          "output_type": "execute_result",
          "data": {
            "text/plain": [
              "[0.9677918887963711, 0.7056702157891518]"
            ]
          },
          "metadata": {
            "tags": []
          },
          "execution_count": 48
        }
      ]
    },
    {
      "cell_type": "code",
      "metadata": {
        "id": "Wf9-alNPprIm",
        "colab_type": "code",
        "colab": {}
      },
      "source": [
        "bernoulli = BernoulliNB()"
      ],
      "execution_count": null,
      "outputs": []
    },
    {
      "cell_type": "code",
      "metadata": {
        "id": "JHevYj69puwd",
        "colab_type": "code",
        "colab": {
          "base_uri": "https://localhost:8080/",
          "height": 34
        },
        "outputId": "6b6980f6-b808-4c50-fcd4-aaf486c53f67"
      },
      "source": [
        "bernoulli_accuracy = accuracy(bernoulli)\n",
        "bernoulli_accuracy"
      ],
      "execution_count": null,
      "outputs": [
        {
          "output_type": "execute_result",
          "data": {
            "text/plain": [
              "[0.7330268101583349, 0.621088194607929]"
            ]
          },
          "metadata": {
            "tags": []
          },
          "execution_count": 50
        }
      ]
    },
    {
      "cell_type": "code",
      "metadata": {
        "id": "3esjXnzMpyTZ",
        "colab_type": "code",
        "colab": {}
      },
      "source": [
        "mnb = MultinomialNB()"
      ],
      "execution_count": null,
      "outputs": []
    },
    {
      "cell_type": "code",
      "metadata": {
        "id": "r9LRFROlp2vN",
        "colab_type": "code",
        "colab": {
          "base_uri": "https://localhost:8080/",
          "height": 34
        },
        "outputId": "01c0ab25-faed-4954-b22a-b0c748162888"
      },
      "source": [
        "mnb_accuracy = accuracy(mnb)\n",
        "mnb_accuracy"
      ],
      "execution_count": null,
      "outputs": [
        {
          "output_type": "execute_result",
          "data": {
            "text/plain": [
              "[0.6998229976109143, 0.6273474949169302]"
            ]
          },
          "metadata": {
            "tags": []
          },
          "execution_count": 52
        }
      ]
    },
    {
      "cell_type": "code",
      "metadata": {
        "id": "lh0reHXQp5sK",
        "colab_type": "code",
        "colab": {}
      },
      "source": [
        "sgd = SGDClassifier()"
      ],
      "execution_count": null,
      "outputs": []
    },
    {
      "cell_type": "code",
      "metadata": {
        "id": "_TvrFmNhp9Wz",
        "colab_type": "code",
        "colab": {
          "base_uri": "https://localhost:8080/",
          "height": 34
        },
        "outputId": "130e1992-cdda-4666-ef23-b03bdc06b1d3"
      },
      "source": [
        "sgd_accuracy = accuracy(sgd)\n",
        "sgd_accuracy"
      ],
      "execution_count": null,
      "outputs": [
        {
          "output_type": "execute_result",
          "data": {
            "text/plain": [
              "[0.9382072241000469, 0.7198305869901394]"
            ]
          },
          "metadata": {
            "tags": []
          },
          "execution_count": 54
        }
      ]
    },
    {
      "cell_type": "code",
      "metadata": {
        "id": "kmzq-NeJqA4V",
        "colab_type": "code",
        "colab": {}
      },
      "source": [
        "rand_forest = RandomForestClassifier()"
      ],
      "execution_count": null,
      "outputs": []
    },
    {
      "cell_type": "code",
      "metadata": {
        "id": "h7prT1zYqEaB",
        "colab_type": "code",
        "colab": {
          "base_uri": "https://localhost:8080/",
          "height": 34
        },
        "outputId": "14287860-cf7c-4279-a583-ef45594282cf"
      },
      "source": [
        "rand_forest_accuracy = accuracy(rand_forest)\n",
        "rand_forest_accuracy"
      ],
      "execution_count": null,
      "outputs": [
        {
          "output_type": "execute_result",
          "data": {
            "text/plain": [
              "[0.9970288848118976, 0.6734935747679894]"
            ]
          },
          "metadata": {
            "tags": []
          },
          "execution_count": 56
        }
      ]
    },
    {
      "cell_type": "code",
      "metadata": {
        "id": "n0otZVnWqILq",
        "colab_type": "code",
        "colab": {}
      },
      "source": [
        "knn = KNeighborsClassifier()"
      ],
      "execution_count": null,
      "outputs": []
    },
    {
      "cell_type": "code",
      "metadata": {
        "id": "w8FKgd7MqMS1",
        "colab_type": "code",
        "colab": {
          "base_uri": "https://localhost:8080/",
          "height": 34
        },
        "outputId": "1606875a-87b4-4d36-d0c6-4be37ff825d9"
      },
      "source": [
        "knn_accuracy = accuracy(knn)\n",
        "knn_accuracy"
      ],
      "execution_count": null,
      "outputs": [
        {
          "output_type": "execute_result",
          "data": {
            "text/plain": [
              "[0.7292969529290652, 0.6116067256797045]"
            ]
          },
          "metadata": {
            "tags": []
          },
          "execution_count": 58
        }
      ]
    },
    {
      "cell_type": "code",
      "metadata": {
        "id": "k0sylfPpqO_t",
        "colab_type": "code",
        "colab": {}
      },
      "source": [
        "grad_booster = GradientBoostingClassifier()"
      ],
      "execution_count": null,
      "outputs": []
    },
    {
      "cell_type": "code",
      "metadata": {
        "id": "UCt8giZxqR6D",
        "colab_type": "code",
        "colab": {
          "base_uri": "https://localhost:8080/",
          "height": 34
        },
        "outputId": "2b41ef52-13a7-4bdb-bd12-6358438c273a"
      },
      "source": [
        "grad_booster_accuracy = accuracy(grad_booster)\n",
        "grad_booster_accuracy"
      ],
      "execution_count": null,
      "outputs": [
        {
          "output_type": "execute_result",
          "data": {
            "text/plain": [
              "[0.6943075247462438, 0.6428340607042635]"
            ]
          },
          "metadata": {
            "tags": []
          },
          "execution_count": 60
        }
      ]
    },
    {
      "cell_type": "code",
      "metadata": {
        "id": "KZclsZ0sqYtk",
        "colab_type": "code",
        "colab": {}
      },
      "source": [
        "extra_trees = ExtraTreesClassifier()"
      ],
      "execution_count": null,
      "outputs": []
    },
    {
      "cell_type": "code",
      "metadata": {
        "id": "mtryvH7MqeJI",
        "colab_type": "code",
        "colab": {
          "base_uri": "https://localhost:8080/",
          "height": 34
        },
        "outputId": "d5f20af3-070f-4d85-e72a-372f0ea26228"
      },
      "source": [
        "extra_trees_accuracy = accuracy(extra_trees)\n",
        "extra_trees_accuracy"
      ],
      "execution_count": null,
      "outputs": [
        {
          "output_type": "execute_result",
          "data": {
            "text/plain": [
              "[0.9971079049620359, 0.6967571673581986]"
            ]
          },
          "metadata": {
            "tags": []
          },
          "execution_count": 62
        }
      ]
    },
    {
      "cell_type": "code",
      "metadata": {
        "id": "1tS8Jwndqhql",
        "colab_type": "code",
        "colab": {}
      },
      "source": [
        "bagging = BaggingClassifier()"
      ],
      "execution_count": null,
      "outputs": []
    },
    {
      "cell_type": "code",
      "metadata": {
        "id": "6Xa7UfoDqibm",
        "colab_type": "code",
        "colab": {
          "base_uri": "https://localhost:8080/",
          "height": 34
        },
        "outputId": "638523de-083f-4d8b-bcdc-cebdb360cc4b"
      },
      "source": [
        "bagging_accuracy = accuracy(bagging)\n",
        "bagging_accuracy"
      ],
      "execution_count": null,
      "outputs": [
        {
          "output_type": "execute_result",
          "data": {
            "text/plain": [
              "[0.9751880637116195, 0.610279272066838]"
            ]
          },
          "metadata": {
            "tags": []
          },
          "execution_count": 64
        }
      ]
    },
    {
      "cell_type": "code",
      "metadata": {
        "id": "QfGgsZOCqmaR",
        "colab_type": "code",
        "colab": {}
      },
      "source": [
        "dec_tree = DecisionTreeClassifier()"
      ],
      "execution_count": null,
      "outputs": []
    },
    {
      "cell_type": "code",
      "metadata": {
        "id": "cOf5nkzzqqm5",
        "colab_type": "code",
        "colab": {
          "base_uri": "https://localhost:8080/",
          "height": 34
        },
        "outputId": "5f1d1693-560d-4916-ce45-6af1fd384ab3"
      },
      "source": [
        "dec_tree_accuracy = accuracy(dec_tree)\n",
        "dec_tree_accuracy"
      ],
      "execution_count": null,
      "outputs": [
        {
          "output_type": "execute_result",
          "data": {
            "text/plain": [
              "[0.9970446988318304, 0.5705161369229312]"
            ]
          },
          "metadata": {
            "tags": []
          },
          "execution_count": 66
        }
      ]
    },
    {
      "cell_type": "code",
      "metadata": {
        "id": "kOQ0SQvmqtRU",
        "colab_type": "code",
        "colab": {}
      },
      "source": [
        "linear_sv = LinearSVC()"
      ],
      "execution_count": null,
      "outputs": []
    },
    {
      "cell_type": "code",
      "metadata": {
        "id": "_YFn68DEqytl",
        "colab_type": "code",
        "colab": {
          "base_uri": "https://localhost:8080/",
          "height": 34
        },
        "outputId": "53375964-5d22-4fd5-ccf8-fbbda017316e"
      },
      "source": [
        "linear_sv_accuracy = accuracy(linear_sv)\n",
        "linear_sv_accuracy"
      ],
      "execution_count": null,
      "outputs": [
        {
          "output_type": "execute_result",
          "data": {
            "text/plain": [
              "[0.9930463404230025, 0.7205261691660009]"
            ]
          },
          "metadata": {
            "tags": []
          },
          "execution_count": 68
        }
      ]
    },
    {
      "cell_type": "code",
      "metadata": {
        "id": "7g0ATkIhq1-I",
        "colab_type": "code",
        "colab": {
          "base_uri": "https://localhost:8080/",
          "height": 295
        },
        "outputId": "13026c16-33dd-4898-b3e3-c08b6d0f297c"
      },
      "source": [
        "models = ['SVC', 'Bernoulli', 'Multinomial Naive Bayes', 'SGDClassifier', 'Random Forest', 'KNearestNeighbours', 'Gradient Booster', 'Extra Trees', 'Bagging', 'Decision Tree', 'Linear SV']\n",
        "bar_widths = [sv_accuracy[1], bernoulli_accuracy[1], mnb_accuracy[1], sgd_accuracy[1], rand_forest_accuracy[1], knn_accuracy[1], grad_booster_accuracy[1], extra_trees_accuracy[1], bagging_accuracy[1], dec_tree_accuracy[1], linear_sv_accuracy[1]]\n",
        "bar_positions = arange(11) + 0.75\n",
        "tick_positions = range(1,12)\n",
        "\n",
        "fig, ax = plt.subplots()\n",
        "ax.barh(bar_positions, bar_widths, 0.5)\n",
        "ax.set_yticks(tick_positions)\n",
        "ax.set_yticklabels(models)\n",
        "\n",
        "ax.set_ylabel('Model')\n",
        "ax.set_xlabel('Accuracy')\n",
        "ax.set_title('Accuracy For Each Model Trained')\n",
        "\n",
        "plt.show()"
      ],
      "execution_count": null,
      "outputs": [
        {
          "output_type": "display_data",
          "data": {
            "image/png": "[encoded data removed]",
            "text/plain": [
              "<Figure size 432x288 with 1 Axes>"
            ]
          },
          "metadata": {
            "tags": [],
            "needs_background": "light"
          }
        }
      ]
    },
    {
      "cell_type": "code",
      "metadata": {
        "id": "Plvjt4JCy7Pc",
        "colab_type": "code",
        "colab": {}
      },
      "source": [
        "linear_svc = LinearSVC()\n"
      ],
      "execution_count": null,
      "outputs": []
    },
    {
      "cell_type": "code",
      "metadata": {
        "id": "EktlZbOIzGsc",
        "colab_type": "code",
        "colab": {
          "base_uri": "https://localhost:8080/",
          "height": 85
        },
        "outputId": "8cf612de-af00-4ce7-f5f2-62c0b5778924"
      },
      "source": [
        "linear_svc.fit(X_train, y_train)\n"
      ],
      "execution_count": null,
      "outputs": [
        {
          "output_type": "execute_result",
          "data": {
            "text/plain": [
              "LinearSVC(C=1.0, class_weight=None, dual=True, fit_intercept=True,\n",
              "          intercept_scaling=1, loss='squared_hinge', max_iter=1000,\n",
              "          multi_class='ovr', penalty='l2', random_state=None, tol=0.0001,\n",
              "          verbose=0)"
            ]
          },
          "metadata": {
            "tags": []
          },
          "execution_count": 41
        }
      ]
    },
    {
      "cell_type": "code",
      "metadata": {
        "id": "t3RH4iXJzVe8",
        "colab_type": "code",
        "colab": {}
      },
      "source": [
        "predictions = linear_svc.predict(X_test)\n"
      ],
      "execution_count": null,
      "outputs": []
    },
    {
      "cell_type": "code",
      "metadata": {
        "id": "qbBPRMzBzmqK",
        "colab_type": "code",
        "colab": {
          "base_uri": "https://localhost:8080/",
          "height": 419
        },
        "outputId": "b6edf207-09fe-44f0-a014-4439e5906df4"
      },
      "source": [
        "test['sentiment'] = predictions\n",
        "test\n"
      ],
      "execution_count": null,
      "outputs": [
        {
          "output_type": "execute_result",
          "data": {
            "text/html": [
              "<div>\n",
              "<style scoped>\n",
              "    .dataframe tbody tr th:only-of-type {\n",
              "        vertical-align: middle;\n",
              "    }\n",
              "\n",
              "    .dataframe tbody tr th {\n",
              "        vertical-align: top;\n",
              "    }\n",
              "\n",
              "    .dataframe thead th {\n",
              "        text-align: right;\n",
              "    }\n",
              "</style>\n",
              "<table border=\"1\" class=\"dataframe\">\n",
              "  <thead>\n",
              "    <tr style=\"text-align: right;\">\n",
              "      <th></th>\n",
              "      <th>message</th>\n",
              "      <th>tweetid</th>\n",
              "      <th>sentiment</th>\n",
              "    </tr>\n",
              "  </thead>\n",
              "  <tbody>\n",
              "    <tr>\n",
              "      <th>0</th>\n",
              "      <td>europe will now be looking to china to make su...</td>\n",
              "      <td>169760</td>\n",
              "      <td>1</td>\n",
              "    </tr>\n",
              "    <tr>\n",
              "      <th>1</th>\n",
              "      <td>combine this with the polling of staffers re c...</td>\n",
              "      <td>35326</td>\n",
              "      <td>1</td>\n",
              "    </tr>\n",
              "    <tr>\n",
              "      <th>2</th>\n",
              "      <td>the scary unimpeachable evidence that climate ...</td>\n",
              "      <td>224985</td>\n",
              "      <td>1</td>\n",
              "    </tr>\n",
              "    <tr>\n",
              "      <th>3</th>\n",
              "      <td>karoli morgfair osborneink dailykos \\nputin go...</td>\n",
              "      <td>476263</td>\n",
              "      <td>1</td>\n",
              "    </tr>\n",
              "    <tr>\n",
              "      <th>4</th>\n",
              "      <td>rt fakewillmoore female orgasms cause global w...</td>\n",
              "      <td>872928</td>\n",
              "      <td>0</td>\n",
              "    </tr>\n",
              "    <tr>\n",
              "      <th>...</th>\n",
              "      <td>...</td>\n",
              "      <td>...</td>\n",
              "      <td>...</td>\n",
              "    </tr>\n",
              "    <tr>\n",
              "      <th>10541</th>\n",
              "      <td>rt brittanybohrer brb writing a poem about cli...</td>\n",
              "      <td>895714</td>\n",
              "      <td>1</td>\n",
              "    </tr>\n",
              "    <tr>\n",
              "      <th>10542</th>\n",
              "      <td>2016 the year climate change came home during ...</td>\n",
              "      <td>875167</td>\n",
              "      <td>1</td>\n",
              "    </tr>\n",
              "    <tr>\n",
              "      <th>10543</th>\n",
              "      <td>rt loop_vanuatu pacific countries positive abo...</td>\n",
              "      <td>78329</td>\n",
              "      <td>2</td>\n",
              "    </tr>\n",
              "    <tr>\n",
              "      <th>10544</th>\n",
              "      <td>rt xanria_00018 youre so hot you must be the c...</td>\n",
              "      <td>867455</td>\n",
              "      <td>0</td>\n",
              "    </tr>\n",
              "    <tr>\n",
              "      <th>10545</th>\n",
              "      <td>rt chloebalaoing climate change is a global is...</td>\n",
              "      <td>470892</td>\n",
              "      <td>1</td>\n",
              "    </tr>\n",
              "  </tbody>\n",
              "</table>\n",
              "<p>10546 rows × 3 columns</p>\n",
              "</div>"
            ],
            "text/plain": [
              "                                                 message  tweetid  sentiment\n",
              "0      europe will now be looking to china to make su...   169760          1\n",
              "1      combine this with the polling of staffers re c...    35326          1\n",
              "2      the scary unimpeachable evidence that climate ...   224985          1\n",
              "3      karoli morgfair osborneink dailykos \\nputin go...   476263          1\n",
              "4      rt fakewillmoore female orgasms cause global w...   872928          0\n",
              "...                                                  ...      ...        ...\n",
              "10541  rt brittanybohrer brb writing a poem about cli...   895714          1\n",
              "10542  2016 the year climate change came home during ...   875167          1\n",
              "10543  rt loop_vanuatu pacific countries positive abo...    78329          2\n",
              "10544  rt xanria_00018 youre so hot you must be the c...   867455          0\n",
              "10545  rt chloebalaoing climate change is a global is...   470892          1\n",
              "\n",
              "[10546 rows x 3 columns]"
            ]
          },
          "metadata": {
            "tags": []
          },
          "execution_count": 43
        }
      ]
    },
    {
      "cell_type": "code",
      "metadata": {
        "id": "SFOoa_HLzswW",
        "colab_type": "code",
        "colab": {
          "base_uri": "https://localhost:8080/",
          "height": 419
        },
        "outputId": "98d57ec8-1a05-476d-e566-24b790cb75dd"
      },
      "source": [
        "submission = test[['tweetid', 'sentiment']]\n",
        "submission\n"
      ],
      "execution_count": null,
      "outputs": [
        {
          "output_type": "execute_result",
          "data": {
            "text/html": [
              "<div>\n",
              "<style scoped>\n",
              "    .dataframe tbody tr th:only-of-type {\n",
              "        vertical-align: middle;\n",
              "    }\n",
              "\n",
              "    .dataframe tbody tr th {\n",
              "        vertical-align: top;\n",
              "    }\n",
              "\n",
              "    .dataframe thead th {\n",
              "        text-align: right;\n",
              "    }\n",
              "</style>\n",
              "<table border=\"1\" class=\"dataframe\">\n",
              "  <thead>\n",
              "    <tr style=\"text-align: right;\">\n",
              "      <th></th>\n",
              "      <th>tweetid</th>\n",
              "      <th>sentiment</th>\n",
              "    </tr>\n",
              "  </thead>\n",
              "  <tbody>\n",
              "    <tr>\n",
              "      <th>0</th>\n",
              "      <td>169760</td>\n",
              "      <td>1</td>\n",
              "    </tr>\n",
              "    <tr>\n",
              "      <th>1</th>\n",
              "      <td>35326</td>\n",
              "      <td>1</td>\n",
              "    </tr>\n",
              "    <tr>\n",
              "      <th>2</th>\n",
              "      <td>224985</td>\n",
              "      <td>1</td>\n",
              "    </tr>\n",
              "    <tr>\n",
              "      <th>3</th>\n",
              "      <td>476263</td>\n",
              "      <td>1</td>\n",
              "    </tr>\n",
              "    <tr>\n",
              "      <th>4</th>\n",
              "      <td>872928</td>\n",
              "      <td>0</td>\n",
              "    </tr>\n",
              "    <tr>\n",
              "      <th>...</th>\n",
              "      <td>...</td>\n",
              "      <td>...</td>\n",
              "    </tr>\n",
              "    <tr>\n",
              "      <th>10541</th>\n",
              "      <td>895714</td>\n",
              "      <td>1</td>\n",
              "    </tr>\n",
              "    <tr>\n",
              "      <th>10542</th>\n",
              "      <td>875167</td>\n",
              "      <td>1</td>\n",
              "    </tr>\n",
              "    <tr>\n",
              "      <th>10543</th>\n",
              "      <td>78329</td>\n",
              "      <td>2</td>\n",
              "    </tr>\n",
              "    <tr>\n",
              "      <th>10544</th>\n",
              "      <td>867455</td>\n",
              "      <td>0</td>\n",
              "    </tr>\n",
              "    <tr>\n",
              "      <th>10545</th>\n",
              "      <td>470892</td>\n",
              "      <td>1</td>\n",
              "    </tr>\n",
              "  </tbody>\n",
              "</table>\n",
              "<p>10546 rows × 2 columns</p>\n",
              "</div>"
            ],
            "text/plain": [
              "       tweetid  sentiment\n",
              "0       169760          1\n",
              "1        35326          1\n",
              "2       224985          1\n",
              "3       476263          1\n",
              "4       872928          0\n",
              "...        ...        ...\n",
              "10541   895714          1\n",
              "10542   875167          1\n",
              "10543    78329          2\n",
              "10544   867455          0\n",
              "10545   470892          1\n",
              "\n",
              "[10546 rows x 2 columns]"
            ]
          },
          "metadata": {
            "tags": []
          },
          "execution_count": 44
        }
      ]
    },
    {
      "cell_type": "markdown",
      "metadata": {
        "id": "jjYtUYskQIuf",
        "colab_type": "text"
      },
      "source": [
        "#Modelling with resampled data\n"
      ]
    },
    {
      "cell_type": "code",
      "metadata": {
        "id": "i0kYHEYAeAk7",
        "colab_type": "code",
        "colab": {
          "base_uri": "https://localhost:8080/",
          "height": 121
        },
        "outputId": "d07347e9-d315-407f-a408-e90f0fa6367c"
      },
      "source": [
        "train = pd.read_csv('https://raw.githubusercontent.com/Stephane-Masamba/Team_4_CPT_ML-Classification/Mikael/train%20(1).csv')\n",
        "print(train.head())"
      ],
      "execution_count": 20,
      "outputs": [
        {
          "output_type": "stream",
          "text": [
            "   sentiment                                            message  tweetid\n",
            "0          1  PolySciMajor EPA chief doesn't think carbon di...   625221\n",
            "1          1  It's not like we lack evidence of anthropogeni...   126103\n",
            "2          2  RT @RawStory: Researchers say we have three ye...   698562\n",
            "3          1  #TodayinMaker# WIRED : 2016 was a pivotal year...   573736\n",
            "4          1  RT @SoyNovioDeTodas: It's 2016, and a racist, ...   466954\n"
          ],
          "name": "stdout"
        }
      ]
    },
    {
      "cell_type": "code",
      "metadata": {
        "id": "QSCGpar4esjq",
        "colab_type": "code",
        "colab": {
          "base_uri": "https://localhost:8080/",
          "height": 121
        },
        "outputId": "183be27a-ccb5-4b34-d6ef-4d1c59aa288a"
      },
      "source": [
        "test = pd.read_csv('https://raw.githubusercontent.com/Stephane-Masamba/Team_4_CPT_ML-Classification/Mikael/test%20(1).csv')\n",
        "print(test.head())"
      ],
      "execution_count": 26,
      "outputs": [
        {
          "output_type": "stream",
          "text": [
            "                                             message  tweetid\n",
            "0  Europe will now be looking to China to make su...   169760\n",
            "1  Combine this with the polling of staffers re c...    35326\n",
            "2  The scary, unimpeachable evidence that climate...   224985\n",
            "3  @Karoli @morgfair @OsborneInk @dailykos \\nPuti...   476263\n",
            "4  RT @FakeWillMoore: 'Female orgasms cause globa...   872928\n"
          ],
          "name": "stdout"
        }
      ]
    },
    {
      "cell_type": "code",
      "metadata": {
        "id": "7ulFEj1nQSaQ",
        "colab_type": "code",
        "colab": {}
      },
      "source": [
        "from sklearn.utils import resample"
      ],
      "execution_count": 3,
      "outputs": []
    },
    {
      "cell_type": "code",
      "metadata": {
        "id": "X01uLUWWQiC3",
        "colab_type": "code",
        "colab": {
          "base_uri": "https://localhost:8080/",
          "height": 104
        },
        "outputId": "d6cb4e93-171c-41e2-f0fa-098f49dd7e7a"
      },
      "source": [
        "train['sentiment'].value_counts()"
      ],
      "execution_count": 21,
      "outputs": [
        {
          "output_type": "execute_result",
          "data": {
            "text/plain": [
              " 1    8530\n",
              " 2    3640\n",
              " 0    2353\n",
              "-1    1296\n",
              "Name: sentiment, dtype: int64"
            ]
          },
          "metadata": {
            "tags": []
          },
          "execution_count": 21
        }
      ]
    },
    {
      "cell_type": "code",
      "metadata": {
        "id": "ldgwTUgKRDVz",
        "colab_type": "code",
        "colab": {}
      },
      "source": [
        "train_majority = train[train.sentiment== 1]\n",
        "train_01 = train[train.sentiment<= 0]\n",
        "train_2 = train[train.sentiment== 2]\n",
        "#train_minority = train[train.sentiment== -1]\n",
        "train_minority = pd.concat([train_01, train_2])"
      ],
      "execution_count": 22,
      "outputs": []
    },
    {
      "cell_type": "code",
      "metadata": {
        "id": "LtbPdohfRSh1",
        "colab_type": "code",
        "colab": {}
      },
      "source": [
        "# Downsample majority class\n",
        "train_majority_downsampled = resample(train_majority, \n",
        "                                 replace=False,    # sample without replacement\n",
        "                                 n_samples=1296,     # to match minority class\n",
        "                                 random_state=123) # reproducible results\n",
        "\n",
        "\n",
        "\n",
        "# Combine minority class with downsampled majority class\n",
        "train_downsampled = pd.concat([train_majority_downsampled, train_minority])"
      ],
      "execution_count": 23,
      "outputs": []
    },
    {
      "cell_type": "code",
      "metadata": {
        "id": "Mj9doThtRnqb",
        "colab_type": "code",
        "colab": {
          "base_uri": "https://localhost:8080/",
          "height": 416
        },
        "outputId": "5ec0600e-378d-4bbc-e593-31c5b05de4e3"
      },
      "source": [
        "train_downsampled"
      ],
      "execution_count": 24,
      "outputs": [
        {
          "output_type": "execute_result",
          "data": {
            "text/html": [
              "<div>\n",
              "<style scoped>\n",
              "    .dataframe tbody tr th:only-of-type {\n",
              "        vertical-align: middle;\n",
              "    }\n",
              "\n",
              "    .dataframe tbody tr th {\n",
              "        vertical-align: top;\n",
              "    }\n",
              "\n",
              "    .dataframe thead th {\n",
              "        text-align: right;\n",
              "    }\n",
              "</style>\n",
              "<table border=\"1\" class=\"dataframe\">\n",
              "  <thead>\n",
              "    <tr style=\"text-align: right;\">\n",
              "      <th></th>\n",
              "      <th>sentiment</th>\n",
              "      <th>message</th>\n",
              "      <th>tweetid</th>\n",
              "    </tr>\n",
              "  </thead>\n",
              "  <tbody>\n",
              "    <tr>\n",
              "      <th>11177</th>\n",
              "      <td>1</td>\n",
              "      <td>RT @MorrisseyHelena: My view on clean/green/ne...</td>\n",
              "      <td>967739</td>\n",
              "    </tr>\n",
              "    <tr>\n",
              "      <th>13782</th>\n",
              "      <td>1</td>\n",
              "      <td>RT @betterthemask: Before the Flood's free to ...</td>\n",
              "      <td>350132</td>\n",
              "    </tr>\n",
              "    <tr>\n",
              "      <th>12981</th>\n",
              "      <td>1</td>\n",
              "      <td>RT @kelkulus: Irony: Florida, a state in dange...</td>\n",
              "      <td>619610</td>\n",
              "    </tr>\n",
              "    <tr>\n",
              "      <th>10340</th>\n",
              "      <td>1</td>\n",
              "      <td>someone who doesnt believe in climate change: ...</td>\n",
              "      <td>258258</td>\n",
              "    </tr>\n",
              "    <tr>\n",
              "      <th>868</th>\n",
              "      <td>1</td>\n",
              "      <td>RT @IzhaarEMuzamat: KP is fighting climate cha...</td>\n",
              "      <td>454755</td>\n",
              "    </tr>\n",
              "    <tr>\n",
              "      <th>...</th>\n",
              "      <td>...</td>\n",
              "      <td>...</td>\n",
              "      <td>...</td>\n",
              "    </tr>\n",
              "    <tr>\n",
              "      <th>15802</th>\n",
              "      <td>2</td>\n",
              "      <td>Michael Bloomberg to world leaders: ignore Tru...</td>\n",
              "      <td>585908</td>\n",
              "    </tr>\n",
              "    <tr>\n",
              "      <th>15803</th>\n",
              "      <td>2</td>\n",
              "      <td>Suicides of nearly 60,000 Indian farmers linke...</td>\n",
              "      <td>296403</td>\n",
              "    </tr>\n",
              "    <tr>\n",
              "      <th>15805</th>\n",
              "      <td>2</td>\n",
              "      <td>RT @GrindTV: New head of EPA says climate chan...</td>\n",
              "      <td>830383</td>\n",
              "    </tr>\n",
              "    <tr>\n",
              "      <th>15809</th>\n",
              "      <td>2</td>\n",
              "      <td>The quest to capture and store carbon — and sl...</td>\n",
              "      <td>705048</td>\n",
              "    </tr>\n",
              "    <tr>\n",
              "      <th>15815</th>\n",
              "      <td>2</td>\n",
              "      <td>RT @washingtonpost: How climate change could b...</td>\n",
              "      <td>17856</td>\n",
              "    </tr>\n",
              "  </tbody>\n",
              "</table>\n",
              "<p>8585 rows × 3 columns</p>\n",
              "</div>"
            ],
            "text/plain": [
              "       sentiment                                            message  tweetid\n",
              "11177          1  RT @MorrisseyHelena: My view on clean/green/ne...   967739\n",
              "13782          1  RT @betterthemask: Before the Flood's free to ...   350132\n",
              "12981          1  RT @kelkulus: Irony: Florida, a state in dange...   619610\n",
              "10340          1  someone who doesnt believe in climate change: ...   258258\n",
              "868            1  RT @IzhaarEMuzamat: KP is fighting climate cha...   454755\n",
              "...          ...                                                ...      ...\n",
              "15802          2  Michael Bloomberg to world leaders: ignore Tru...   585908\n",
              "15803          2  Suicides of nearly 60,000 Indian farmers linke...   296403\n",
              "15805          2  RT @GrindTV: New head of EPA says climate chan...   830383\n",
              "15809          2  The quest to capture and store carbon — and sl...   705048\n",
              "15815          2  RT @washingtonpost: How climate change could b...    17856\n",
              "\n",
              "[8585 rows x 3 columns]"
            ]
          },
          "metadata": {
            "tags": []
          },
          "execution_count": 24
        }
      ]
    },
    {
      "cell_type": "code",
      "metadata": {
        "id": "JOZcGngcRrgF",
        "colab_type": "code",
        "colab": {
          "base_uri": "https://localhost:8080/",
          "height": 104
        },
        "outputId": "da935610-dd9f-4012-dbdb-e1c417e7d6d4"
      },
      "source": [
        "train_downsampled['sentiment'].value_counts()"
      ],
      "execution_count": 25,
      "outputs": [
        {
          "output_type": "execute_result",
          "data": {
            "text/plain": [
              " 2    3640\n",
              " 0    2353\n",
              "-1    1296\n",
              " 1    1296\n",
              "Name: sentiment, dtype: int64"
            ]
          },
          "metadata": {
            "tags": []
          },
          "execution_count": 25
        }
      ]
    },
    {
      "cell_type": "code",
      "metadata": {
        "id": "ryLR6ypQdkmP",
        "colab_type": "code",
        "colab": {}
      },
      "source": [
        "\n",
        "i = 0\n",
        "for tweet in train['message']:\n",
        "  tweet = tweet.lower()\n",
        "  tweet = re.sub(r'http\\S+', 'LINK', tweet)\n",
        "  tweet = re.sub(r'@\\S+', 'USER_REF', tweet)\n",
        "  tweet = re.sub(r'[^\\w\\s]', '', tweet)\n",
        "  tweet = tweet.lstrip()\n",
        "  tweet = tweet.rstrip()\n",
        "  tweet = tweet.replace('  ', ' ')\n",
        "  train.loc[i, 'message'] = tweet\n",
        "  i += 1"
      ],
      "execution_count": 27,
      "outputs": []
    },
    {
      "cell_type": "code",
      "metadata": {
        "id": "WXEEJCPMfmF3",
        "colab_type": "code",
        "colab": {}
      },
      "source": [
        "my_stop_words = stopwords.words('english')\n",
        "my_stop_words.append('LINK')\n",
        "my_stop_words.append('USER_REF')\n",
        "\n",
        "train_index = 0\n",
        "\n",
        "for tweet in train['message']:\n",
        "  tweet = word_tokenize(tweet)\n",
        "  tweet = [word for word in tweet if not word in my_stop_words]\n",
        "  tweet = ' '.join(tweet)\n",
        "\n",
        "  train.loc[train_index, 'message'] = tweet\n",
        "  train_index += 1"
      ],
      "execution_count": 32,
      "outputs": []
    },
    {
      "cell_type": "code",
      "metadata": {
        "id": "LF3NY7iVfqek",
        "colab_type": "code",
        "colab": {}
      },
      "source": [
        "train_index = 0\n",
        "\n",
        "for tweet in train['message']:\n",
        "  tweet = nlp(tweet)\n",
        "\n",
        "  for entity in tweet.ents:\n",
        "    train.loc[train_index, 'message'] = train.loc[train_index, 'message'].replace(str(entity.text), str(entity.label_))\n",
        "\n",
        "  train_index += 1"
      ],
      "execution_count": 33,
      "outputs": []
    },
    {
      "cell_type": "code",
      "metadata": {
        "id": "GUb4CDbdfGhg",
        "colab_type": "code",
        "colab": {}
      },
      "source": [
        "train_index = 0\n",
        "\n",
        "for tweet in train['message']:\n",
        "  tweet = nlp(tweet)\n",
        "  \n",
        "  for token in tweet:\n",
        "    train.loc[train_index, 'message'] = train.loc[train_index, 'message'].replace(str(token.text), str(token.lemma_))\n",
        "\n",
        "  train_index += 1"
      ],
      "execution_count": 34,
      "outputs": []
    },
    {
      "cell_type": "code",
      "metadata": {
        "id": "NKI_BY4qf0sM",
        "colab_type": "code",
        "colab": {}
      },
      "source": [
        "\n",
        "j = 0\n",
        "for message in test['message']:\n",
        "  message = message.lower()\n",
        "  message = re.sub(r'http\\S+', 'LINK', message)\n",
        "  message = re.sub(r'@\\S+', 'USER_REF', message)\n",
        "  message = re.sub(r'[^\\w\\s]', '', message)\n",
        "  message = message.lstrip()\n",
        "  message = message.rstrip()\n",
        "  message = message.replace('  ', ' ')\n",
        "  test.loc[j, 'message'] = message\n",
        "  j += 1"
      ],
      "execution_count": 35,
      "outputs": []
    },
    {
      "cell_type": "code",
      "metadata": {
        "id": "t7pRbTFdfLTI",
        "colab_type": "code",
        "colab": {}
      },
      "source": [
        "\n",
        "test_index = 0\n",
        "\n",
        "for message in test['message']:\n",
        "  message = word_tokenize(message)\n",
        "  message = [word for word in message if not word in my_stop_words]\n",
        "  message = ' '.join(message)\n",
        "\n",
        "  test.loc[test_index, 'message'] = message\n",
        "  test_index += 1"
      ],
      "execution_count": 36,
      "outputs": []
    },
    {
      "cell_type": "code",
      "metadata": {
        "id": "GM1LuGUTfQ3q",
        "colab_type": "code",
        "colab": {}
      },
      "source": [
        "\n",
        "test_index = 0\n",
        "\n",
        "for message in test['message']:\n",
        "  message = nlp(message)\n",
        "\n",
        "  for entity in message.ents:\n",
        "    test.loc[test_index, 'message'] = test.loc[test_index, 'message'].replace(str(entity.text), str(entity.label_))\n",
        "\n",
        "  test_index += 1"
      ],
      "execution_count": 37,
      "outputs": []
    },
    {
      "cell_type": "code",
      "metadata": {
        "id": "wp7ldMEGfUKF",
        "colab_type": "code",
        "colab": {}
      },
      "source": [
        "test_index = 0\n",
        "\n",
        "for message in test['message']:\n",
        "  message = nlp(message)\n",
        "  \n",
        "  for token in message:\n",
        "    test.loc[test_index, 'message'] = test.loc[test_index, 'message'].replace(str(token.text), str(token.lemma_))\n",
        "\n",
        "  test_index += 1"
      ],
      "execution_count": 38,
      "outputs": []
    },
    {
      "cell_type": "code",
      "metadata": {
        "id": "MJFyB85JgBHH",
        "colab_type": "code",
        "colab": {
          "base_uri": "https://localhost:8080/",
          "height": 225
        },
        "outputId": "42ef3c15-fca8-4f72-8af5-6b3e177d6bf4"
      },
      "source": [
        "X_train = train['message']\n",
        "X_train"
      ],
      "execution_count": 39,
      "outputs": [
        {
          "output_type": "execute_result",
          "data": {
            "text/plain": [
              "0        ORG chief donot think carbon dioxide main caus...\n",
              "1          like lack evidence anthropogenic global warming\n",
              "2           rt researcher say DATE act climate change late\n",
              "3        todayinmaker wire DATE pivotal year war climat...\n",
              "4        rt DATE racist sexist climate change deny bigo...\n",
              "                               ...                        \n",
              "15814    rt take material global warming lgbt right hea...\n",
              "15815    rt climate change could break CARDINAL relatio...\n",
              "15816    person rt nytimesworld trump actually believe ...\n",
              "15817    rt hey liberal climate change crap hoax ties a...\n",
              "15818       rt climate change equation CARDINAL screenshot\n",
              "Name: message, Length: 15819, dtype: object"
            ]
          },
          "metadata": {
            "tags": []
          },
          "execution_count": 39
        }
      ]
    },
    {
      "cell_type": "code",
      "metadata": {
        "id": "P2wsrp-YgQip",
        "colab_type": "code",
        "colab": {
          "base_uri": "https://localhost:8080/",
          "height": 225
        },
        "outputId": "8ec15d1e-4faa-44ef-b694-6d35fc491453"
      },
      "source": [
        "\n",
        "y_train = train['sentiment']\n",
        "y_train"
      ],
      "execution_count": 40,
      "outputs": [
        {
          "output_type": "execute_result",
          "data": {
            "text/plain": [
              "0        1\n",
              "1        1\n",
              "2        2\n",
              "3        1\n",
              "4        1\n",
              "        ..\n",
              "15814    1\n",
              "15815    2\n",
              "15816    0\n",
              "15817   -1\n",
              "15818    0\n",
              "Name: sentiment, Length: 15819, dtype: int64"
            ]
          },
          "metadata": {
            "tags": []
          },
          "execution_count": 40
        }
      ]
    },
    {
      "cell_type": "code",
      "metadata": {
        "id": "e03HdqoDgy8I",
        "colab_type": "code",
        "colab": {}
      },
      "source": [
        "X_train = tf_vect.fit_transform(X_train)"
      ],
      "execution_count": 45,
      "outputs": []
    },
    {
      "cell_type": "code",
      "metadata": {
        "id": "dn-C8qT9hA6n",
        "colab_type": "code",
        "colab": {}
      },
      "source": [
        "X_test = test['message']\n",
        "X_test = tf_vect.transform(X_test)"
      ],
      "execution_count": 47,
      "outputs": []
    },
    {
      "cell_type": "code",
      "metadata": {
        "id": "cCzffBBux-no",
        "colab_type": "code",
        "colab": {}
      },
      "source": [
        ""
      ],
      "execution_count": null,
      "outputs": []
    },
    {
      "cell_type": "code",
      "metadata": {
        "id": "Ztm4SY2thGdv",
        "colab_type": "code",
        "colab": {
          "base_uri": "https://localhost:8080/",
          "height": 34
        },
        "outputId": "f445f02a-97a5-43cc-ad2d-50e8aef280aa"
      },
      "source": [
        "sv = SVC()\n",
        "\n",
        "sv_accuracy = accuracy(sv)\n",
        "sv_accuracy"
      ],
      "execution_count": 51,
      "outputs": [
        {
          "output_type": "execute_result",
          "data": {
            "text/plain": [
              "[0.9672387464966651, 0.7085783871910238]"
            ]
          },
          "metadata": {
            "tags": []
          },
          "execution_count": 51
        }
      ]
    },
    {
      "cell_type": "code",
      "metadata": {
        "id": "p7DbMBBZhOXI",
        "colab_type": "code",
        "colab": {
          "base_uri": "https://localhost:8080/",
          "height": 34
        },
        "outputId": "378ed390-88fc-44a4-8c26-633635599a19"
      },
      "source": [
        "bernoulli = BernoulliNB()\n",
        "\n",
        "bernoulli_accuracy = accuracy(bernoulli)\n",
        "bernoulli_accuracy"
      ],
      "execution_count": 52,
      "outputs": [
        {
          "output_type": "execute_result",
          "data": {
            "text/plain": [
              "[0.732852877167622, 0.6207718791830157]"
            ]
          },
          "metadata": {
            "tags": []
          },
          "execution_count": 52
        }
      ]
    },
    {
      "cell_type": "code",
      "metadata": {
        "id": "mCpWaL7shUhk",
        "colab_type": "code",
        "colab": {
          "base_uri": "https://localhost:8080/",
          "height": 34
        },
        "outputId": "9798bed4-72a8-49d1-8a67-55be5348ab5c"
      },
      "source": [
        "mnb = MultinomialNB()\n",
        "\n",
        "mnb_accuracy = accuracy(mnb)\n",
        "mnb_accuracy"
      ],
      "execution_count": 53,
      "outputs": [
        {
          "output_type": "execute_result",
          "data": {
            "text/plain": [
              "[0.6996491670167296, 0.6282312116271699]"
            ]
          },
          "metadata": {
            "tags": []
          },
          "execution_count": 53
        }
      ]
    },
    {
      "cell_type": "code",
      "metadata": {
        "id": "J0gcUXFbhbTL",
        "colab_type": "code",
        "colab": {
          "base_uri": "https://localhost:8080/",
          "height": 34
        },
        "outputId": "b2965fdd-d23b-4a5a-e522-f92e0e94409b"
      },
      "source": [
        "sgd = SGDClassifier()\n",
        "\n",
        "\n",
        "sgd_accuracy = accuracy(sgd)\n",
        "sgd_accuracy"
      ],
      "execution_count": 54,
      "outputs": [
        {
          "output_type": "execute_result",
          "data": {
            "text/plain": [
              "[0.9379859489485873, 0.7162268334124055]"
            ]
          },
          "metadata": {
            "tags": []
          },
          "execution_count": 54
        }
      ]
    },
    {
      "cell_type": "code",
      "metadata": {
        "id": "WmsK_Sibhgnj",
        "colab_type": "code",
        "colab": {
          "base_uri": "https://localhost:8080/",
          "height": 34
        },
        "outputId": "a504645e-27ea-4eed-bb3d-8489a65ca8f6"
      },
      "source": [
        "rand_forest = RandomForestClassifier()\n",
        "\n",
        "\n",
        "rand_forest_accuracy = accuracy(rand_forest)\n",
        "rand_forest_accuracy"
      ],
      "execution_count": 55,
      "outputs": [
        {
          "output_type": "execute_result",
          "data": {
            "text/plain": [
              "[0.9970762993994569, 0.6752633463805786]"
            ]
          },
          "metadata": {
            "tags": []
          },
          "execution_count": 55
        }
      ]
    },
    {
      "cell_type": "code",
      "metadata": {
        "id": "M3zWGGrvhmxK",
        "colab_type": "code",
        "colab": {
          "base_uri": "https://localhost:8080/",
          "height": 34
        },
        "outputId": "b6ae1f54-86b2-4722-f37e-689aace4c6b6"
      },
      "source": [
        "\n",
        "knn = KNeighborsClassifier()\n",
        "\n",
        "knn_accuracy = accuracy(knn)\n",
        "knn_accuracy"
      ],
      "execution_count": 56,
      "outputs": [
        {
          "output_type": "execute_result",
          "data": {
            "text/plain": [
              "[0.7278747300852488, 0.6152102594274107]"
            ]
          },
          "metadata": {
            "tags": []
          },
          "execution_count": 56
        }
      ]
    },
    {
      "cell_type": "code",
      "metadata": {
        "id": "SMHx_4DxhsVg",
        "colab_type": "code",
        "colab": {
          "base_uri": "https://localhost:8080/",
          "height": 34
        },
        "outputId": "16c5903b-e4ef-4383-aa51-d081a48044b4"
      },
      "source": [
        "grad_booster = GradientBoostingClassifier()\n",
        "\n",
        "\n",
        "grad_booster_accuracy = accuracy(grad_booster)\n",
        "grad_booster_accuracy"
      ],
      "execution_count": 57,
      "outputs": [
        {
          "output_type": "execute_result",
          "data": {
            "text/plain": [
              "[0.6929958202236641, 0.6437831868399353]"
            ]
          },
          "metadata": {
            "tags": []
          },
          "execution_count": 57
        }
      ]
    },
    {
      "cell_type": "code",
      "metadata": {
        "id": "CV7685kphysQ",
        "colab_type": "code",
        "colab": {
          "base_uri": "https://localhost:8080/",
          "height": 34
        },
        "outputId": "e005c2f6-8ba6-415e-ecfc-f16970f4f489"
      },
      "source": [
        "extra_trees = ExtraTreesClassifier()\n",
        "\n",
        "extra_trees_accuracy = accuracy(extra_trees)\n",
        "extra_trees_accuracy\n"
      ],
      "execution_count": 58,
      "outputs": [
        {
          "output_type": "execute_result",
          "data": {
            "text/plain": [
              "[0.997028887309374, 0.6995395959843849]"
            ]
          },
          "metadata": {
            "tags": []
          },
          "execution_count": 58
        }
      ]
    },
    {
      "cell_type": "code",
      "metadata": {
        "id": "8pP43oNUh6kK",
        "colab_type": "code",
        "colab": {
          "base_uri": "https://localhost:8080/",
          "height": 34
        },
        "outputId": "c7c1c3be-20a1-4823-ed7b-b53560408691"
      },
      "source": [
        "bagging = BaggingClassifier()\n",
        "bagging_accuracy = accuracy(bagging)\n",
        "bagging_accuracy"
      ],
      "execution_count": 59,
      "outputs": [
        {
          "output_type": "execute_result",
          "data": {
            "text/plain": [
              "[0.9736393461906744, 0.6112901504556676]"
            ]
          },
          "metadata": {
            "tags": []
          },
          "execution_count": 59
        }
      ]
    },
    {
      "cell_type": "code",
      "metadata": {
        "id": "FPazcGheiHjd",
        "colab_type": "code",
        "colab": {
          "base_uri": "https://localhost:8080/",
          "height": 34
        },
        "outputId": "e2bcfe97-55da-4dbd-c2b3-e805c1550740"
      },
      "source": [
        "dec_tree = DecisionTreeClassifier()\n",
        "dec_tree_accuracy = accuracy(dec_tree)\n",
        "dec_tree_accuracy"
      ],
      "execution_count": 60,
      "outputs": [
        {
          "output_type": "execute_result",
          "data": {
            "text/plain": [
              "[0.9970762981507187, 0.5701381092139558]"
            ]
          },
          "metadata": {
            "tags": []
          },
          "execution_count": 60
        }
      ]
    },
    {
      "cell_type": "code",
      "metadata": {
        "id": "_ERbBoa-iNbA",
        "colab_type": "code",
        "colab": {
          "base_uri": "https://localhost:8080/",
          "height": 34
        },
        "outputId": "0db09cf4-4512-45ab-9cb8-82420112a630"
      },
      "source": [
        "linear_sv = LinearSVC()\n",
        "linear_sv_accuracy = accuracy(linear_sv)\n",
        "linear_sv_accuracy"
      ],
      "execution_count": 61,
      "outputs": [
        {
          "output_type": "execute_result",
          "data": {
            "text/plain": [
              "[0.9930463279356209, 0.7234971120329761]"
            ]
          },
          "metadata": {
            "tags": []
          },
          "execution_count": 61
        }
      ]
    },
    {
      "cell_type": "code",
      "metadata": {
        "id": "tOR8Z7bBiUun",
        "colab_type": "code",
        "colab": {
          "base_uri": "https://localhost:8080/",
          "height": 294
        },
        "outputId": "6cb8f8db-3025-44cf-b398-8b8d09ac139a"
      },
      "source": [
        "models = ['SVC', 'Bernoulli', 'Multinomial Naive Bayes', 'SGDClassifier', 'Random Forest', 'KNearestNeighbours', 'Gradient Booster', 'Extra Trees', 'Bagging', 'Decision Tree', 'Linear SV']\n",
        "bar_widths = [sv_accuracy[1], bernoulli_accuracy[1], mnb_accuracy[1], sgd_accuracy[1], rand_forest_accuracy[1], knn_accuracy[1], grad_booster_accuracy[1], extra_trees_accuracy[1], bagging_accuracy[1], dec_tree_accuracy[1], linear_sv_accuracy[1]]\n",
        "bar_positions = arange(11) + 0.75\n",
        "tick_positions = range(1,12)\n",
        "\n",
        "fig, ax = plt.subplots()\n",
        "ax.barh(bar_positions, bar_widths, 0.5)\n",
        "ax.set_yticks(tick_positions)\n",
        "ax.set_yticklabels(models)\n",
        "\n",
        "ax.set_ylabel('Model')\n",
        "ax.set_xlabel('Accuracy')\n",
        "ax.set_title('Accuracy For Each Model Trained')\n",
        "\n",
        "plt.show()"
      ],
      "execution_count": 62,
      "outputs": [
        {
          "output_type": "display_data",
          "data": {
            "image/png": "[encoded data removed]",
            "text/plain": [
              "<Figure size 432x288 with 1 Axes>"
            ]
          },
          "metadata": {
            "tags": [],
            "needs_background": "light"
          }
        }
      ]
    },
    {
      "cell_type": "markdown",
      "metadata": {
        "id": "VkepvRe7iiOH",
        "colab_type": "text"
      },
      "source": [
        "#Fit best Model for testin"
      ]
    },
    {
      "cell_type": "markdown",
      "metadata": {
        "id": "DQIx8LdJ5XkN",
        "colab_type": "text"
      },
      "source": [
        "#Model Analysis"
      ]
    },
    {
      "cell_type": "markdown",
      "metadata": {
        "id": "AAuPQ7QL562Y",
        "colab_type": "text"
      },
      "source": [
        "#Conclusion"
      ]
    }
  ]
}